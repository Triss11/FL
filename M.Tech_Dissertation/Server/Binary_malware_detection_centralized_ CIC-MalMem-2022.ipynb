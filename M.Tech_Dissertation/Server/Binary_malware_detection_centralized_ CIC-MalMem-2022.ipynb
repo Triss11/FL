{
 "cells": [
  {
   "cell_type": "code",
   "execution_count": 26,
   "id": "cdd95ced",
   "metadata": {},
   "outputs": [],
   "source": [
    "import pandas as pd\n",
    "import numpy as np\n",
    "import matplotlib.pyplot as plt\n",
    "import seaborn as sns\n",
    "import tensorflow as tf\n",
    "from sklearn.model_selection import train_test_split\n",
    "from sklearn.preprocessing import StandardScaler\n",
    "from sklearn.metrics import classification_report, confusion_matrix\n",
    "from sklearn.decomposition import PCA\n",
    "import xgboost as xgb\n",
    "from tensorflow.keras.optimizers import Adam\n",
    "from sklearn.utils import class_weight\n",
    "from tensorflow.keras.callbacks import EarlyStopping\n",
    "import time\n",
    "import os\n",
    "from typing import Dict, List, Tuple\n",
    "from tensorflow.keras import layers, models\n",
    "from typing import List, Dict, Tuple, Optional\n",
    "from pathlib import Path\n",
    "\n"
   ]
  },
  {
   "cell_type": "code",
   "execution_count": 2,
   "id": "9accee8a",
   "metadata": {},
   "outputs": [
    {
     "data": {
      "text/html": [
       "<div>\n",
       "<style scoped>\n",
       "    .dataframe tbody tr th:only-of-type {\n",
       "        vertical-align: middle;\n",
       "    }\n",
       "\n",
       "    .dataframe tbody tr th {\n",
       "        vertical-align: top;\n",
       "    }\n",
       "\n",
       "    .dataframe thead th {\n",
       "        text-align: right;\n",
       "    }\n",
       "</style>\n",
       "<table border=\"1\" class=\"dataframe\">\n",
       "  <thead>\n",
       "    <tr style=\"text-align: right;\">\n",
       "      <th></th>\n",
       "      <th>Category</th>\n",
       "      <th>pslist.nproc</th>\n",
       "      <th>pslist.nppid</th>\n",
       "      <th>pslist.avg_threads</th>\n",
       "      <th>pslist.nprocs64bit</th>\n",
       "      <th>pslist.avg_handlers</th>\n",
       "      <th>dlllist.ndlls</th>\n",
       "      <th>dlllist.avg_dlls_per_proc</th>\n",
       "      <th>handles.nhandles</th>\n",
       "      <th>handles.avg_handles_per_proc</th>\n",
       "      <th>...</th>\n",
       "      <th>svcscan.kernel_drivers</th>\n",
       "      <th>svcscan.fs_drivers</th>\n",
       "      <th>svcscan.process_services</th>\n",
       "      <th>svcscan.shared_process_services</th>\n",
       "      <th>svcscan.interactive_process_services</th>\n",
       "      <th>svcscan.nactive</th>\n",
       "      <th>callbacks.ncallbacks</th>\n",
       "      <th>callbacks.nanonymous</th>\n",
       "      <th>callbacks.ngeneric</th>\n",
       "      <th>Class</th>\n",
       "    </tr>\n",
       "  </thead>\n",
       "  <tbody>\n",
       "    <tr>\n",
       "      <th>0</th>\n",
       "      <td>Benign</td>\n",
       "      <td>45</td>\n",
       "      <td>17</td>\n",
       "      <td>10.555556</td>\n",
       "      <td>0</td>\n",
       "      <td>202.844444</td>\n",
       "      <td>1694</td>\n",
       "      <td>38.500000</td>\n",
       "      <td>9129</td>\n",
       "      <td>212.302326</td>\n",
       "      <td>...</td>\n",
       "      <td>221</td>\n",
       "      <td>26</td>\n",
       "      <td>24</td>\n",
       "      <td>116</td>\n",
       "      <td>0</td>\n",
       "      <td>121</td>\n",
       "      <td>87</td>\n",
       "      <td>0</td>\n",
       "      <td>8</td>\n",
       "      <td>Benign</td>\n",
       "    </tr>\n",
       "    <tr>\n",
       "      <th>1</th>\n",
       "      <td>Benign</td>\n",
       "      <td>47</td>\n",
       "      <td>19</td>\n",
       "      <td>11.531915</td>\n",
       "      <td>0</td>\n",
       "      <td>242.234043</td>\n",
       "      <td>2074</td>\n",
       "      <td>44.127660</td>\n",
       "      <td>11385</td>\n",
       "      <td>242.234043</td>\n",
       "      <td>...</td>\n",
       "      <td>222</td>\n",
       "      <td>26</td>\n",
       "      <td>24</td>\n",
       "      <td>118</td>\n",
       "      <td>0</td>\n",
       "      <td>122</td>\n",
       "      <td>87</td>\n",
       "      <td>0</td>\n",
       "      <td>8</td>\n",
       "      <td>Benign</td>\n",
       "    </tr>\n",
       "    <tr>\n",
       "      <th>2</th>\n",
       "      <td>Benign</td>\n",
       "      <td>40</td>\n",
       "      <td>14</td>\n",
       "      <td>14.725000</td>\n",
       "      <td>0</td>\n",
       "      <td>288.225000</td>\n",
       "      <td>1932</td>\n",
       "      <td>48.300000</td>\n",
       "      <td>11529</td>\n",
       "      <td>288.225000</td>\n",
       "      <td>...</td>\n",
       "      <td>222</td>\n",
       "      <td>26</td>\n",
       "      <td>27</td>\n",
       "      <td>118</td>\n",
       "      <td>0</td>\n",
       "      <td>120</td>\n",
       "      <td>88</td>\n",
       "      <td>0</td>\n",
       "      <td>8</td>\n",
       "      <td>Benign</td>\n",
       "    </tr>\n",
       "    <tr>\n",
       "      <th>3</th>\n",
       "      <td>Benign</td>\n",
       "      <td>32</td>\n",
       "      <td>13</td>\n",
       "      <td>13.500000</td>\n",
       "      <td>0</td>\n",
       "      <td>264.281250</td>\n",
       "      <td>1445</td>\n",
       "      <td>45.156250</td>\n",
       "      <td>8457</td>\n",
       "      <td>264.281250</td>\n",
       "      <td>...</td>\n",
       "      <td>222</td>\n",
       "      <td>26</td>\n",
       "      <td>27</td>\n",
       "      <td>118</td>\n",
       "      <td>0</td>\n",
       "      <td>120</td>\n",
       "      <td>88</td>\n",
       "      <td>0</td>\n",
       "      <td>8</td>\n",
       "      <td>Benign</td>\n",
       "    </tr>\n",
       "    <tr>\n",
       "      <th>4</th>\n",
       "      <td>Benign</td>\n",
       "      <td>42</td>\n",
       "      <td>16</td>\n",
       "      <td>11.452381</td>\n",
       "      <td>0</td>\n",
       "      <td>281.333333</td>\n",
       "      <td>2067</td>\n",
       "      <td>49.214286</td>\n",
       "      <td>11816</td>\n",
       "      <td>281.333333</td>\n",
       "      <td>...</td>\n",
       "      <td>222</td>\n",
       "      <td>26</td>\n",
       "      <td>24</td>\n",
       "      <td>118</td>\n",
       "      <td>0</td>\n",
       "      <td>124</td>\n",
       "      <td>87</td>\n",
       "      <td>0</td>\n",
       "      <td>8</td>\n",
       "      <td>Benign</td>\n",
       "    </tr>\n",
       "  </tbody>\n",
       "</table>\n",
       "<p>5 rows × 57 columns</p>\n",
       "</div>"
      ],
      "text/plain": [
       "  Category  pslist.nproc  pslist.nppid  pslist.avg_threads  \\\n",
       "0   Benign            45            17           10.555556   \n",
       "1   Benign            47            19           11.531915   \n",
       "2   Benign            40            14           14.725000   \n",
       "3   Benign            32            13           13.500000   \n",
       "4   Benign            42            16           11.452381   \n",
       "\n",
       "   pslist.nprocs64bit  pslist.avg_handlers  dlllist.ndlls  \\\n",
       "0                   0           202.844444           1694   \n",
       "1                   0           242.234043           2074   \n",
       "2                   0           288.225000           1932   \n",
       "3                   0           264.281250           1445   \n",
       "4                   0           281.333333           2067   \n",
       "\n",
       "   dlllist.avg_dlls_per_proc  handles.nhandles  handles.avg_handles_per_proc  \\\n",
       "0                  38.500000              9129                    212.302326   \n",
       "1                  44.127660             11385                    242.234043   \n",
       "2                  48.300000             11529                    288.225000   \n",
       "3                  45.156250              8457                    264.281250   \n",
       "4                  49.214286             11816                    281.333333   \n",
       "\n",
       "   ...  svcscan.kernel_drivers  svcscan.fs_drivers  svcscan.process_services  \\\n",
       "0  ...                     221                  26                        24   \n",
       "1  ...                     222                  26                        24   \n",
       "2  ...                     222                  26                        27   \n",
       "3  ...                     222                  26                        27   \n",
       "4  ...                     222                  26                        24   \n",
       "\n",
       "   svcscan.shared_process_services  svcscan.interactive_process_services  \\\n",
       "0                              116                                     0   \n",
       "1                              118                                     0   \n",
       "2                              118                                     0   \n",
       "3                              118                                     0   \n",
       "4                              118                                     0   \n",
       "\n",
       "   svcscan.nactive  callbacks.ncallbacks  callbacks.nanonymous  \\\n",
       "0              121                    87                     0   \n",
       "1              122                    87                     0   \n",
       "2              120                    88                     0   \n",
       "3              120                    88                     0   \n",
       "4              124                    87                     0   \n",
       "\n",
       "   callbacks.ngeneric   Class  \n",
       "0                   8  Benign  \n",
       "1                   8  Benign  \n",
       "2                   8  Benign  \n",
       "3                   8  Benign  \n",
       "4                   8  Benign  \n",
       "\n",
       "[5 rows x 57 columns]"
      ]
     },
     "execution_count": 2,
     "metadata": {},
     "output_type": "execute_result"
    }
   ],
   "source": [
    "df = pd.read_csv(\"/Users/sohinikar/M.Tech_Dissertation/Obfuscated-MalMem2022.csv\")\n",
    "df.head()"
   ]
  },
  {
   "cell_type": "code",
   "execution_count": 3,
   "id": "ff9081a1",
   "metadata": {},
   "outputs": [
    {
     "data": {
      "text/html": [
       "<div>\n",
       "<style scoped>\n",
       "    .dataframe tbody tr th:only-of-type {\n",
       "        vertical-align: middle;\n",
       "    }\n",
       "\n",
       "    .dataframe tbody tr th {\n",
       "        vertical-align: top;\n",
       "    }\n",
       "\n",
       "    .dataframe thead th {\n",
       "        text-align: right;\n",
       "    }\n",
       "</style>\n",
       "<table border=\"1\" class=\"dataframe\">\n",
       "  <thead>\n",
       "    <tr style=\"text-align: right;\">\n",
       "      <th></th>\n",
       "      <th>pslist.nproc</th>\n",
       "      <th>pslist.nppid</th>\n",
       "      <th>pslist.avg_threads</th>\n",
       "      <th>pslist.nprocs64bit</th>\n",
       "      <th>pslist.avg_handlers</th>\n",
       "      <th>dlllist.ndlls</th>\n",
       "      <th>dlllist.avg_dlls_per_proc</th>\n",
       "      <th>handles.nhandles</th>\n",
       "      <th>handles.avg_handles_per_proc</th>\n",
       "      <th>handles.nport</th>\n",
       "      <th>...</th>\n",
       "      <th>svcscan.nservices</th>\n",
       "      <th>svcscan.kernel_drivers</th>\n",
       "      <th>svcscan.fs_drivers</th>\n",
       "      <th>svcscan.process_services</th>\n",
       "      <th>svcscan.shared_process_services</th>\n",
       "      <th>svcscan.interactive_process_services</th>\n",
       "      <th>svcscan.nactive</th>\n",
       "      <th>callbacks.ncallbacks</th>\n",
       "      <th>callbacks.nanonymous</th>\n",
       "      <th>callbacks.ngeneric</th>\n",
       "    </tr>\n",
       "  </thead>\n",
       "  <tbody>\n",
       "    <tr>\n",
       "      <th>count</th>\n",
       "      <td>58596.000000</td>\n",
       "      <td>58596.000000</td>\n",
       "      <td>58596.000000</td>\n",
       "      <td>58596.0</td>\n",
       "      <td>58596.000000</td>\n",
       "      <td>58596.000000</td>\n",
       "      <td>58596.000000</td>\n",
       "      <td>5.859600e+04</td>\n",
       "      <td>58596.000000</td>\n",
       "      <td>58596.0</td>\n",
       "      <td>...</td>\n",
       "      <td>58596.000000</td>\n",
       "      <td>58596.000000</td>\n",
       "      <td>58596.000000</td>\n",
       "      <td>58596.000000</td>\n",
       "      <td>58596.000000</td>\n",
       "      <td>58596.0</td>\n",
       "      <td>58596.000000</td>\n",
       "      <td>58596.000000</td>\n",
       "      <td>58596.000000</td>\n",
       "      <td>58596.000000</td>\n",
       "    </tr>\n",
       "    <tr>\n",
       "      <th>mean</th>\n",
       "      <td>41.394771</td>\n",
       "      <td>14.713837</td>\n",
       "      <td>11.341655</td>\n",
       "      <td>0.0</td>\n",
       "      <td>247.509819</td>\n",
       "      <td>1810.805447</td>\n",
       "      <td>43.707806</td>\n",
       "      <td>1.025858e+04</td>\n",
       "      <td>249.560958</td>\n",
       "      <td>0.0</td>\n",
       "      <td>...</td>\n",
       "      <td>391.347549</td>\n",
       "      <td>221.406581</td>\n",
       "      <td>25.996245</td>\n",
       "      <td>25.063417</td>\n",
       "      <td>116.879514</td>\n",
       "      <td>0.0</td>\n",
       "      <td>121.995546</td>\n",
       "      <td>86.905659</td>\n",
       "      <td>0.000853</td>\n",
       "      <td>7.999881</td>\n",
       "    </tr>\n",
       "    <tr>\n",
       "      <th>std</th>\n",
       "      <td>5.777249</td>\n",
       "      <td>2.656748</td>\n",
       "      <td>1.588231</td>\n",
       "      <td>0.0</td>\n",
       "      <td>111.857790</td>\n",
       "      <td>329.782639</td>\n",
       "      <td>5.742023</td>\n",
       "      <td>4.866864e+03</td>\n",
       "      <td>145.999866</td>\n",
       "      <td>0.0</td>\n",
       "      <td>...</td>\n",
       "      <td>4.529704</td>\n",
       "      <td>1.991087</td>\n",
       "      <td>0.170790</td>\n",
       "      <td>1.529628</td>\n",
       "      <td>1.550401</td>\n",
       "      <td>0.0</td>\n",
       "      <td>2.822858</td>\n",
       "      <td>3.134117</td>\n",
       "      <td>0.029199</td>\n",
       "      <td>0.010929</td>\n",
       "    </tr>\n",
       "    <tr>\n",
       "      <th>min</th>\n",
       "      <td>21.000000</td>\n",
       "      <td>8.000000</td>\n",
       "      <td>1.650000</td>\n",
       "      <td>0.0</td>\n",
       "      <td>34.962500</td>\n",
       "      <td>670.000000</td>\n",
       "      <td>7.333333</td>\n",
       "      <td>3.514000e+03</td>\n",
       "      <td>71.139241</td>\n",
       "      <td>0.0</td>\n",
       "      <td>...</td>\n",
       "      <td>94.000000</td>\n",
       "      <td>55.000000</td>\n",
       "      <td>6.000000</td>\n",
       "      <td>7.000000</td>\n",
       "      <td>26.000000</td>\n",
       "      <td>0.0</td>\n",
       "      <td>30.000000</td>\n",
       "      <td>50.000000</td>\n",
       "      <td>0.000000</td>\n",
       "      <td>7.000000</td>\n",
       "    </tr>\n",
       "    <tr>\n",
       "      <th>25%</th>\n",
       "      <td>40.000000</td>\n",
       "      <td>12.000000</td>\n",
       "      <td>9.972973</td>\n",
       "      <td>0.0</td>\n",
       "      <td>208.725000</td>\n",
       "      <td>1556.000000</td>\n",
       "      <td>38.833333</td>\n",
       "      <td>8.393000e+03</td>\n",
       "      <td>209.648228</td>\n",
       "      <td>0.0</td>\n",
       "      <td>...</td>\n",
       "      <td>389.000000</td>\n",
       "      <td>221.000000</td>\n",
       "      <td>26.000000</td>\n",
       "      <td>24.000000</td>\n",
       "      <td>116.000000</td>\n",
       "      <td>0.0</td>\n",
       "      <td>121.000000</td>\n",
       "      <td>87.000000</td>\n",
       "      <td>0.000000</td>\n",
       "      <td>8.000000</td>\n",
       "    </tr>\n",
       "    <tr>\n",
       "      <th>50%</th>\n",
       "      <td>41.000000</td>\n",
       "      <td>15.000000</td>\n",
       "      <td>11.000000</td>\n",
       "      <td>0.0</td>\n",
       "      <td>243.963710</td>\n",
       "      <td>1735.000000</td>\n",
       "      <td>42.781524</td>\n",
       "      <td>9.287500e+03</td>\n",
       "      <td>247.208951</td>\n",
       "      <td>0.0</td>\n",
       "      <td>...</td>\n",
       "      <td>389.000000</td>\n",
       "      <td>221.000000</td>\n",
       "      <td>26.000000</td>\n",
       "      <td>24.000000</td>\n",
       "      <td>116.000000</td>\n",
       "      <td>0.0</td>\n",
       "      <td>122.000000</td>\n",
       "      <td>87.000000</td>\n",
       "      <td>0.000000</td>\n",
       "      <td>8.000000</td>\n",
       "    </tr>\n",
       "    <tr>\n",
       "      <th>75%</th>\n",
       "      <td>43.000000</td>\n",
       "      <td>16.000000</td>\n",
       "      <td>12.861955</td>\n",
       "      <td>0.0</td>\n",
       "      <td>289.974322</td>\n",
       "      <td>2087.000000</td>\n",
       "      <td>49.605280</td>\n",
       "      <td>1.219300e+04</td>\n",
       "      <td>291.355050</td>\n",
       "      <td>0.0</td>\n",
       "      <td>...</td>\n",
       "      <td>395.000000</td>\n",
       "      <td>222.000000</td>\n",
       "      <td>26.000000</td>\n",
       "      <td>27.000000</td>\n",
       "      <td>118.000000</td>\n",
       "      <td>0.0</td>\n",
       "      <td>123.000000</td>\n",
       "      <td>88.000000</td>\n",
       "      <td>0.000000</td>\n",
       "      <td>8.000000</td>\n",
       "    </tr>\n",
       "    <tr>\n",
       "      <th>max</th>\n",
       "      <td>240.000000</td>\n",
       "      <td>72.000000</td>\n",
       "      <td>16.818182</td>\n",
       "      <td>0.0</td>\n",
       "      <td>24845.951220</td>\n",
       "      <td>3443.000000</td>\n",
       "      <td>53.170732</td>\n",
       "      <td>1.047310e+06</td>\n",
       "      <td>33784.193550</td>\n",
       "      <td>0.0</td>\n",
       "      <td>...</td>\n",
       "      <td>395.000000</td>\n",
       "      <td>222.000000</td>\n",
       "      <td>26.000000</td>\n",
       "      <td>27.000000</td>\n",
       "      <td>118.000000</td>\n",
       "      <td>0.0</td>\n",
       "      <td>129.000000</td>\n",
       "      <td>89.000000</td>\n",
       "      <td>1.000000</td>\n",
       "      <td>8.000000</td>\n",
       "    </tr>\n",
       "  </tbody>\n",
       "</table>\n",
       "<p>8 rows × 55 columns</p>\n",
       "</div>"
      ],
      "text/plain": [
       "       pslist.nproc  pslist.nppid  pslist.avg_threads  pslist.nprocs64bit  \\\n",
       "count  58596.000000  58596.000000        58596.000000             58596.0   \n",
       "mean      41.394771     14.713837           11.341655                 0.0   \n",
       "std        5.777249      2.656748            1.588231                 0.0   \n",
       "min       21.000000      8.000000            1.650000                 0.0   \n",
       "25%       40.000000     12.000000            9.972973                 0.0   \n",
       "50%       41.000000     15.000000           11.000000                 0.0   \n",
       "75%       43.000000     16.000000           12.861955                 0.0   \n",
       "max      240.000000     72.000000           16.818182                 0.0   \n",
       "\n",
       "       pslist.avg_handlers  dlllist.ndlls  dlllist.avg_dlls_per_proc  \\\n",
       "count         58596.000000   58596.000000               58596.000000   \n",
       "mean            247.509819    1810.805447                  43.707806   \n",
       "std             111.857790     329.782639                   5.742023   \n",
       "min              34.962500     670.000000                   7.333333   \n",
       "25%             208.725000    1556.000000                  38.833333   \n",
       "50%             243.963710    1735.000000                  42.781524   \n",
       "75%             289.974322    2087.000000                  49.605280   \n",
       "max           24845.951220    3443.000000                  53.170732   \n",
       "\n",
       "       handles.nhandles  handles.avg_handles_per_proc  handles.nport  ...  \\\n",
       "count      5.859600e+04                  58596.000000        58596.0  ...   \n",
       "mean       1.025858e+04                    249.560958            0.0  ...   \n",
       "std        4.866864e+03                    145.999866            0.0  ...   \n",
       "min        3.514000e+03                     71.139241            0.0  ...   \n",
       "25%        8.393000e+03                    209.648228            0.0  ...   \n",
       "50%        9.287500e+03                    247.208951            0.0  ...   \n",
       "75%        1.219300e+04                    291.355050            0.0  ...   \n",
       "max        1.047310e+06                  33784.193550            0.0  ...   \n",
       "\n",
       "       svcscan.nservices  svcscan.kernel_drivers  svcscan.fs_drivers  \\\n",
       "count       58596.000000            58596.000000        58596.000000   \n",
       "mean          391.347549              221.406581           25.996245   \n",
       "std             4.529704                1.991087            0.170790   \n",
       "min            94.000000               55.000000            6.000000   \n",
       "25%           389.000000              221.000000           26.000000   \n",
       "50%           389.000000              221.000000           26.000000   \n",
       "75%           395.000000              222.000000           26.000000   \n",
       "max           395.000000              222.000000           26.000000   \n",
       "\n",
       "       svcscan.process_services  svcscan.shared_process_services  \\\n",
       "count              58596.000000                     58596.000000   \n",
       "mean                  25.063417                       116.879514   \n",
       "std                    1.529628                         1.550401   \n",
       "min                    7.000000                        26.000000   \n",
       "25%                   24.000000                       116.000000   \n",
       "50%                   24.000000                       116.000000   \n",
       "75%                   27.000000                       118.000000   \n",
       "max                   27.000000                       118.000000   \n",
       "\n",
       "       svcscan.interactive_process_services  svcscan.nactive  \\\n",
       "count                               58596.0     58596.000000   \n",
       "mean                                    0.0       121.995546   \n",
       "std                                     0.0         2.822858   \n",
       "min                                     0.0        30.000000   \n",
       "25%                                     0.0       121.000000   \n",
       "50%                                     0.0       122.000000   \n",
       "75%                                     0.0       123.000000   \n",
       "max                                     0.0       129.000000   \n",
       "\n",
       "       callbacks.ncallbacks  callbacks.nanonymous  callbacks.ngeneric  \n",
       "count          58596.000000          58596.000000        58596.000000  \n",
       "mean              86.905659              0.000853            7.999881  \n",
       "std                3.134117              0.029199            0.010929  \n",
       "min               50.000000              0.000000            7.000000  \n",
       "25%               87.000000              0.000000            8.000000  \n",
       "50%               87.000000              0.000000            8.000000  \n",
       "75%               88.000000              0.000000            8.000000  \n",
       "max               89.000000              1.000000            8.000000  \n",
       "\n",
       "[8 rows x 55 columns]"
      ]
     },
     "execution_count": 3,
     "metadata": {},
     "output_type": "execute_result"
    }
   ],
   "source": [
    "df.describe()"
   ]
  },
  {
   "cell_type": "code",
   "execution_count": 4,
   "id": "2aaef1e9",
   "metadata": {},
   "outputs": [
    {
     "data": {
      "text/plain": [
       "(58596, 57)"
      ]
     },
     "execution_count": 4,
     "metadata": {},
     "output_type": "execute_result"
    }
   ],
   "source": [
    "df.shape"
   ]
  },
  {
   "cell_type": "markdown",
   "id": "2451dfc4",
   "metadata": {},
   "source": [
    "# Data Cleaning"
   ]
  },
  {
   "cell_type": "code",
   "execution_count": 5,
   "id": "3d81b940",
   "metadata": {},
   "outputs": [
    {
     "name": "stdout",
     "output_type": "stream",
     "text": [
      "All values in pslist.nprocs64bit are identical.\n",
      "All values in handles.nport are identical.\n",
      "All values in svcscan.interactive_process_services are identical.\n"
     ]
    }
   ],
   "source": [
    "# checking all the values in the columns are indetical\n",
    "for column in df.columns:\n",
    "    if df[column].nunique() == 1:\n",
    "        print(f\"All values in {column} are identical.\")"
   ]
  },
  {
   "cell_type": "code",
   "execution_count": 6,
   "id": "83c5373a",
   "metadata": {},
   "outputs": [],
   "source": [
    "columns_to_drop = ['pslist.nprocs64bit', 'handles.nport', 'svcscan.interactive_process_services']\n",
    "\n",
    "# Drop the specified columns\n",
    "df.drop(columns=columns_to_drop, inplace=True)"
   ]
  },
  {
   "cell_type": "code",
   "execution_count": 7,
   "id": "50c07e95",
   "metadata": {},
   "outputs": [
    {
     "name": "stdout",
     "output_type": "stream",
     "text": [
      "Columns with nulls: []\n"
     ]
    }
   ],
   "source": [
    "#checking for columns with null values\n",
    "\n",
    "null_columns = df.columns[df.isnull().any()]\n",
    "print(\"Columns with nulls:\", list(null_columns))"
   ]
  },
  {
   "cell_type": "markdown",
   "id": "7303a2b0",
   "metadata": {},
   "source": [
    "# Encoding"
   ]
  },
  {
   "cell_type": "code",
   "execution_count": 8,
   "id": "c056f15c",
   "metadata": {},
   "outputs": [],
   "source": [
    "df['Class'] = df['Class'].map({'Benign': 0, 'Malware': 1}) if df['Class'].dtype == 'object' else df['Class']"
   ]
  },
  {
   "cell_type": "markdown",
   "id": "3201e595",
   "metadata": {},
   "source": [
    "# sanity check of data before splitting"
   ]
  },
  {
   "cell_type": "code",
   "execution_count": 9,
   "id": "b91b2e9d",
   "metadata": {},
   "outputs": [
    {
     "name": "stdout",
     "output_type": "stream",
     "text": [
      "\n",
      "Data Info:\n",
      "<class 'pandas.core.frame.DataFrame'>\n",
      "RangeIndex: 58596 entries, 0 to 58595\n",
      "Data columns (total 54 columns):\n",
      " #   Column                                  Non-Null Count  Dtype  \n",
      "---  ------                                  --------------  -----  \n",
      " 0   Category                                58596 non-null  object \n",
      " 1   pslist.nproc                            58596 non-null  int64  \n",
      " 2   pslist.nppid                            58596 non-null  int64  \n",
      " 3   pslist.avg_threads                      58596 non-null  float64\n",
      " 4   pslist.avg_handlers                     58596 non-null  float64\n",
      " 5   dlllist.ndlls                           58596 non-null  int64  \n",
      " 6   dlllist.avg_dlls_per_proc               58596 non-null  float64\n",
      " 7   handles.nhandles                        58596 non-null  int64  \n",
      " 8   handles.avg_handles_per_proc            58596 non-null  float64\n",
      " 9   handles.nfile                           58596 non-null  int64  \n",
      " 10  handles.nevent                          58596 non-null  int64  \n",
      " 11  handles.ndesktop                        58596 non-null  int64  \n",
      " 12  handles.nkey                            58596 non-null  int64  \n",
      " 13  handles.nthread                         58596 non-null  int64  \n",
      " 14  handles.ndirectory                      58596 non-null  int64  \n",
      " 15  handles.nsemaphore                      58596 non-null  int64  \n",
      " 16  handles.ntimer                          58596 non-null  int64  \n",
      " 17  handles.nsection                        58596 non-null  int64  \n",
      " 18  handles.nmutant                         58596 non-null  int64  \n",
      " 19  ldrmodules.not_in_load                  58596 non-null  int64  \n",
      " 20  ldrmodules.not_in_init                  58596 non-null  int64  \n",
      " 21  ldrmodules.not_in_mem                   58596 non-null  int64  \n",
      " 22  ldrmodules.not_in_load_avg              58596 non-null  float64\n",
      " 23  ldrmodules.not_in_init_avg              58596 non-null  float64\n",
      " 24  ldrmodules.not_in_mem_avg               58596 non-null  float64\n",
      " 25  malfind.ninjections                     58596 non-null  int64  \n",
      " 26  malfind.commitCharge                    58596 non-null  int64  \n",
      " 27  malfind.protection                      58596 non-null  int64  \n",
      " 28  malfind.uniqueInjections                58596 non-null  float64\n",
      " 29  psxview.not_in_pslist                   58596 non-null  int64  \n",
      " 30  psxview.not_in_eprocess_pool            58596 non-null  int64  \n",
      " 31  psxview.not_in_ethread_pool             58596 non-null  int64  \n",
      " 32  psxview.not_in_pspcid_list              58596 non-null  int64  \n",
      " 33  psxview.not_in_csrss_handles            58596 non-null  int64  \n",
      " 34  psxview.not_in_session                  58596 non-null  int64  \n",
      " 35  psxview.not_in_deskthrd                 58596 non-null  int64  \n",
      " 36  psxview.not_in_pslist_false_avg         58596 non-null  float64\n",
      " 37  psxview.not_in_eprocess_pool_false_avg  58596 non-null  float64\n",
      " 38  psxview.not_in_ethread_pool_false_avg   58596 non-null  float64\n",
      " 39  psxview.not_in_pspcid_list_false_avg    58596 non-null  float64\n",
      " 40  psxview.not_in_csrss_handles_false_avg  58596 non-null  float64\n",
      " 41  psxview.not_in_session_false_avg        58596 non-null  float64\n",
      " 42  psxview.not_in_deskthrd_false_avg       58596 non-null  float64\n",
      " 43  modules.nmodules                        58596 non-null  int64  \n",
      " 44  svcscan.nservices                       58596 non-null  int64  \n",
      " 45  svcscan.kernel_drivers                  58596 non-null  int64  \n",
      " 46  svcscan.fs_drivers                      58596 non-null  int64  \n",
      " 47  svcscan.process_services                58596 non-null  int64  \n",
      " 48  svcscan.shared_process_services         58596 non-null  int64  \n",
      " 49  svcscan.nactive                         58596 non-null  int64  \n",
      " 50  callbacks.ncallbacks                    58596 non-null  int64  \n",
      " 51  callbacks.nanonymous                    58596 non-null  int64  \n",
      " 52  callbacks.ngeneric                      58596 non-null  int64  \n",
      " 53  Class                                   58596 non-null  int64  \n",
      "dtypes: float64(15), int64(38), object(1)\n",
      "memory usage: 24.1+ MB\n",
      "None\n",
      "\n",
      "First Few Rows:\n",
      "  Category  pslist.nproc  pslist.nppid  pslist.avg_threads  \\\n",
      "0   Benign            45            17           10.555556   \n",
      "1   Benign            47            19           11.531915   \n",
      "2   Benign            40            14           14.725000   \n",
      "3   Benign            32            13           13.500000   \n",
      "4   Benign            42            16           11.452381   \n",
      "\n",
      "   pslist.avg_handlers  dlllist.ndlls  dlllist.avg_dlls_per_proc  \\\n",
      "0           202.844444           1694                  38.500000   \n",
      "1           242.234043           2074                  44.127660   \n",
      "2           288.225000           1932                  48.300000   \n",
      "3           264.281250           1445                  45.156250   \n",
      "4           281.333333           2067                  49.214286   \n",
      "\n",
      "   handles.nhandles  handles.avg_handles_per_proc  handles.nfile  ...  \\\n",
      "0              9129                    212.302326            670  ...   \n",
      "1             11385                    242.234043            840  ...   \n",
      "2             11529                    288.225000           1050  ...   \n",
      "3              8457                    264.281250            630  ...   \n",
      "4             11816                    281.333333            908  ...   \n",
      "\n",
      "   svcscan.nservices  svcscan.kernel_drivers  svcscan.fs_drivers  \\\n",
      "0                389                     221                  26   \n",
      "1                392                     222                  26   \n",
      "2                395                     222                  26   \n",
      "3                395                     222                  26   \n",
      "4                392                     222                  26   \n",
      "\n",
      "   svcscan.process_services  svcscan.shared_process_services  svcscan.nactive  \\\n",
      "0                        24                              116              121   \n",
      "1                        24                              118              122   \n",
      "2                        27                              118              120   \n",
      "3                        27                              118              120   \n",
      "4                        24                              118              124   \n",
      "\n",
      "   callbacks.ncallbacks  callbacks.nanonymous  callbacks.ngeneric  Class  \n",
      "0                    87                     0                   8      0  \n",
      "1                    87                     0                   8      0  \n",
      "2                    88                     0                   8      0  \n",
      "3                    88                     0                   8      0  \n",
      "4                    87                     0                   8      0  \n",
      "\n",
      "[5 rows x 54 columns]\n"
     ]
    }
   ],
   "source": [
    "print(\"\\nData Info:\")\n",
    "print(df.info())\n",
    "print(\"\\nFirst Few Rows:\")\n",
    "print(df.head())"
   ]
  },
  {
   "cell_type": "code",
   "execution_count": 10,
   "id": "2cfcf125",
   "metadata": {},
   "outputs": [
    {
     "name": "stdout",
     "output_type": "stream",
     "text": [
      "DataFrame Shape: (58596, 54)\n",
      "Class Distribution: Class\n",
      "0    29298\n",
      "1    29298\n",
      "Name: count, dtype: int64\n"
     ]
    }
   ],
   "source": [
    "print(\"DataFrame Shape:\", df.shape)\n",
    "print(\"Class Distribution:\", df[\"Class\"].value_counts())"
   ]
  },
  {
   "cell_type": "code",
   "execution_count": 11,
   "id": "d2f7ee2f",
   "metadata": {},
   "outputs": [],
   "source": [
    "X = df.drop(columns=['Class','Category'])\n",
    "y = df[\"Class\"]"
   ]
  },
  {
   "cell_type": "code",
   "execution_count": 12,
   "id": "3ccbc898",
   "metadata": {},
   "outputs": [],
   "source": [
    "scaler = StandardScaler()\n",
    "X_scaled = scaler.fit_transform(X)\n"
   ]
  },
  {
   "cell_type": "markdown",
   "id": "4e70183e",
   "metadata": {},
   "source": [
    "Steep rise initially:\n",
    "The first ~10 components capture a large portion of the total variance — roughly 90–95%.\n",
    "This means most of the useful information is concentrated in those first few components.\n",
    "\n",
    "Elbow point (approx at component 10–15):\n",
    "After ~15 components, the curve flattens — additional components add very little new information (variance).\n",
    "\n",
    "Plateau near 1.0:\n",
    "Around 20–25 components, you reach nearly 100% variance retained, so including more components beyond that is redundant."
   ]
  },
  {
   "cell_type": "markdown",
   "id": "1abbcc1f",
   "metadata": {},
   "source": [
    "# Splitting the data"
   ]
  },
  {
   "cell_type": "code",
   "execution_count": 36,
   "id": "fa616f99",
   "metadata": {},
   "outputs": [],
   "source": [
    "# Split the dataset into training and testing sets\n",
    "X_train, X_test, y_train, y_test = train_test_split(X_scaled, y, test_size=0.3, random_state=7)"
   ]
  },
  {
   "cell_type": "code",
   "execution_count": 37,
   "id": "c3773551",
   "metadata": {},
   "outputs": [
    {
     "data": {
      "text/plain": [
       "(17579, 52)"
      ]
     },
     "execution_count": 37,
     "metadata": {},
     "output_type": "execute_result"
    }
   ],
   "source": [
    "X_test.shape"
   ]
  },
  {
   "cell_type": "code",
   "execution_count": 38,
   "id": "06b06b82",
   "metadata": {},
   "outputs": [
    {
     "name": "stdout",
     "output_type": "stream",
     "text": [
      "X_sampled: (5888, 52)\n",
      "y_sampled: (5888,)\n",
      "Remaining X_test: (11691, 52)\n",
      "Remaining y_test: (11691,)\n"
     ]
    }
   ],
   "source": [
    "# Ensure numpy arrays\n",
    "X_test = np.asarray(X_test)\n",
    "y_test = np.asarray(y_test).reshape(-1)\n",
    "\n",
    "# Randomly pick 5888 indices\n",
    "rng = np.random.default_rng(42)  # seed for reproducibility\n",
    "sample_idx = rng.choice(len(X_test), size=5888, replace=False)\n",
    "\n",
    "# Extract sampled sets\n",
    "X_sampled = X_test[sample_idx]\n",
    "y_sampled = y_test[sample_idx]\n",
    "\n",
    "# Remove those rows to form reduced test set\n",
    "mask = np.ones(len(X_test), dtype=bool)\n",
    "mask[sample_idx] = False\n",
    "\n",
    "X_test = X_test[mask]\n",
    "y_test = y_test[mask]\n",
    "\n",
    "print(\"X_sampled:\", X_sampled.shape)   # (5888, 52)\n",
    "print(\"y_sampled:\", y_sampled.shape)   # (5888,)\n",
    "print(\"Remaining X_test:\", X_test.shape)  # (17579-5888, 52) = (11691, 52)\n",
    "print(\"Remaining y_test:\", y_test.shape)  # (11691,)"
   ]
  },
  {
   "cell_type": "code",
   "execution_count": 39,
   "id": "7d273f86",
   "metadata": {},
   "outputs": [
    {
     "name": "stdout",
     "output_type": "stream",
     "text": [
      "✅ Done. Created 128 folders each under:\n",
      "   /Users/sohinikar/FL/M.Tech_Dissertation/data/FNN_BC_test_data\n",
      "   /Users/sohinikar/FL/M.Tech_Dissertation/data/LSTM_BC_test_data\n"
     ]
    }
   ],
   "source": [
    "# ---- config ----\n",
    "BASE_DIR_FNN  = Path(\"/Users/sohinikar/FL/M.Tech_Dissertation/data/FNN_BC_test_data\")\n",
    "BASE_DIR_LSTM = Path(\"/Users/sohinikar/FL/M.Tech_Dissertation/data/LSTM_BC_test_data\")\n",
    "USER_COUNT = 128\n",
    "TOTAL_SAMPLES = len(X_sampled)   # should be 5888\n",
    "SAMPLES_PER_USER = TOTAL_SAMPLES // USER_COUNT  # 46\n",
    "\n",
    "# ---- ensure numpy arrays ----\n",
    "X_sampled = np.asarray(X_sampled)\n",
    "y_sampled = np.asarray(y_sampled).reshape(-1)\n",
    "\n",
    "n, d = X_sampled.shape\n",
    "assert n == len(y_sampled), \"X_sampled and y_sampled must have the same number of rows\"\n",
    "\n",
    "# ---- prepare LSTM reshaped data ----\n",
    "X_sampled_lstm = X_sampled.reshape((n, 1, d)).astype(np.float32)\n",
    "y_sampled_lstm = y_sampled.astype(np.float32)\n",
    "\n",
    "# ---- helper to save per-user ----\n",
    "def save_user_data(base_dir, X, y, is_lstm=False):\n",
    "    base_dir.mkdir(parents=True, exist_ok=True)\n",
    "    cols = [f\"f{i:02d}\" for i in range(X.shape[-1])] if not is_lstm else [f\"t0_f{i:02d}\" for i in range(X.shape[-1])]\n",
    "\n",
    "    for user_id in range(1, USER_COUNT + 1):\n",
    "        start = (user_id - 1) * SAMPLES_PER_USER\n",
    "        end = start + SAMPLES_PER_USER\n",
    "\n",
    "        user_dir = base_dir / f\"user_{user_id:03d}\"\n",
    "        user_dir.mkdir(parents=True, exist_ok=True)\n",
    "\n",
    "        if is_lstm:\n",
    "            # flatten (samples, 1, features) -> (samples, features)\n",
    "            X_chunk = X[start:end, 0, :]\n",
    "        else:\n",
    "            X_chunk = X[start:end]\n",
    "\n",
    "        y_chunk = y[start:end]\n",
    "\n",
    "        # Save features\n",
    "        pd.DataFrame(X_chunk, columns=cols).to_csv(user_dir / \"X.csv\", index=False)\n",
    "        # Save labels\n",
    "        pd.DataFrame({\"label\": y_chunk}).to_csv(user_dir / \"y.csv\", index=False)\n",
    "\n",
    "# ---- save both FNN + LSTM sets ----\n",
    "save_user_data(BASE_DIR_FNN,  X_sampled,      y_sampled,      is_lstm=False)\n",
    "save_user_data(BASE_DIR_LSTM, X_sampled_lstm, y_sampled_lstm, is_lstm=True)\n",
    "\n",
    "print(f\"✅ Done. Created {USER_COUNT} folders each under:\")\n",
    "print(f\"   {BASE_DIR_FNN}\")\n",
    "print(f\"   {BASE_DIR_LSTM}\")\n"
   ]
  },
  {
   "cell_type": "code",
   "execution_count": 34,
   "id": "41aa6119",
   "metadata": {},
   "outputs": [
    {
     "data": {
      "text/plain": [
       "(11691, 52)"
      ]
     },
     "execution_count": 34,
     "metadata": {},
     "output_type": "execute_result"
    }
   ],
   "source": [
    "X_test.shape"
   ]
  },
  {
   "cell_type": "code",
   "execution_count": 35,
   "id": "fb05ad9e",
   "metadata": {},
   "outputs": [
    {
     "data": {
      "text/plain": [
       "(11691,)"
      ]
     },
     "execution_count": 35,
     "metadata": {},
     "output_type": "execute_result"
    }
   ],
   "source": [
    "y_test.shape"
   ]
  },
  {
   "cell_type": "markdown",
   "id": "c25eecdd",
   "metadata": {},
   "source": [
    "# Feedforward Neural Network for Binary Classification (FNN-BC)"
   ]
  },
  {
   "cell_type": "code",
   "execution_count": 14,
   "id": "0ee3c40f",
   "metadata": {},
   "outputs": [],
   "source": [
    "early_stop = EarlyStopping(\n",
    "    monitor=\"accuracy\",      # or \"val_accuracy\"\n",
    "    mode=\"max\",\n",
    "    patience=0,              # stop as soon as it stops improving\n",
    "    min_delta=0.0,           # minimum change\n",
    "    verbose=1\n",
    ")"
   ]
  },
  {
   "cell_type": "code",
   "execution_count": 15,
   "id": "af3b21bf",
   "metadata": {},
   "outputs": [
    {
     "data": {
      "text/html": [
       "<pre style=\"white-space:pre;overflow-x:auto;line-height:normal;font-family:Menlo,'DejaVu Sans Mono',consolas,'Courier New',monospace\"><span style=\"font-weight: bold\">Model: \"sequential\"</span>\n",
       "</pre>\n"
      ],
      "text/plain": [
       "\u001b[1mModel: \"sequential\"\u001b[0m\n"
      ]
     },
     "metadata": {},
     "output_type": "display_data"
    },
    {
     "data": {
      "text/html": [
       "<pre style=\"white-space:pre;overflow-x:auto;line-height:normal;font-family:Menlo,'DejaVu Sans Mono',consolas,'Courier New',monospace\">┏━━━━━━━━━━━━━━━━━━━━━━━━━━━━━━━━━┳━━━━━━━━━━━━━━━━━━━━━━━━┳━━━━━━━━━━━━━━━┓\n",
       "┃<span style=\"font-weight: bold\"> Layer (type)                    </span>┃<span style=\"font-weight: bold\"> Output Shape           </span>┃<span style=\"font-weight: bold\">       Param # </span>┃\n",
       "┡━━━━━━━━━━━━━━━━━━━━━━━━━━━━━━━━━╇━━━━━━━━━━━━━━━━━━━━━━━━╇━━━━━━━━━━━━━━━┩\n",
       "│ dense (<span style=\"color: #0087ff; text-decoration-color: #0087ff\">Dense</span>)                   │ (<span style=\"color: #00d7ff; text-decoration-color: #00d7ff\">None</span>, <span style=\"color: #00af00; text-decoration-color: #00af00\">10</span>)             │           <span style=\"color: #00af00; text-decoration-color: #00af00\">530</span> │\n",
       "├─────────────────────────────────┼────────────────────────┼───────────────┤\n",
       "│ dropout (<span style=\"color: #0087ff; text-decoration-color: #0087ff\">Dropout</span>)               │ (<span style=\"color: #00d7ff; text-decoration-color: #00d7ff\">None</span>, <span style=\"color: #00af00; text-decoration-color: #00af00\">10</span>)             │             <span style=\"color: #00af00; text-decoration-color: #00af00\">0</span> │\n",
       "├─────────────────────────────────┼────────────────────────┼───────────────┤\n",
       "│ dense_1 (<span style=\"color: #0087ff; text-decoration-color: #0087ff\">Dense</span>)                 │ (<span style=\"color: #00d7ff; text-decoration-color: #00d7ff\">None</span>, <span style=\"color: #00af00; text-decoration-color: #00af00\">10</span>)             │           <span style=\"color: #00af00; text-decoration-color: #00af00\">110</span> │\n",
       "├─────────────────────────────────┼────────────────────────┼───────────────┤\n",
       "│ dropout_1 (<span style=\"color: #0087ff; text-decoration-color: #0087ff\">Dropout</span>)             │ (<span style=\"color: #00d7ff; text-decoration-color: #00d7ff\">None</span>, <span style=\"color: #00af00; text-decoration-color: #00af00\">10</span>)             │             <span style=\"color: #00af00; text-decoration-color: #00af00\">0</span> │\n",
       "├─────────────────────────────────┼────────────────────────┼───────────────┤\n",
       "│ dense_2 (<span style=\"color: #0087ff; text-decoration-color: #0087ff\">Dense</span>)                 │ (<span style=\"color: #00d7ff; text-decoration-color: #00d7ff\">None</span>, <span style=\"color: #00af00; text-decoration-color: #00af00\">1</span>)              │            <span style=\"color: #00af00; text-decoration-color: #00af00\">11</span> │\n",
       "└─────────────────────────────────┴────────────────────────┴───────────────┘\n",
       "</pre>\n"
      ],
      "text/plain": [
       "┏━━━━━━━━━━━━━━━━━━━━━━━━━━━━━━━━━┳━━━━━━━━━━━━━━━━━━━━━━━━┳━━━━━━━━━━━━━━━┓\n",
       "┃\u001b[1m \u001b[0m\u001b[1mLayer (type)                   \u001b[0m\u001b[1m \u001b[0m┃\u001b[1m \u001b[0m\u001b[1mOutput Shape          \u001b[0m\u001b[1m \u001b[0m┃\u001b[1m \u001b[0m\u001b[1m      Param #\u001b[0m\u001b[1m \u001b[0m┃\n",
       "┡━━━━━━━━━━━━━━━━━━━━━━━━━━━━━━━━━╇━━━━━━━━━━━━━━━━━━━━━━━━╇━━━━━━━━━━━━━━━┩\n",
       "│ dense (\u001b[38;5;33mDense\u001b[0m)                   │ (\u001b[38;5;45mNone\u001b[0m, \u001b[38;5;34m10\u001b[0m)             │           \u001b[38;5;34m530\u001b[0m │\n",
       "├─────────────────────────────────┼────────────────────────┼───────────────┤\n",
       "│ dropout (\u001b[38;5;33mDropout\u001b[0m)               │ (\u001b[38;5;45mNone\u001b[0m, \u001b[38;5;34m10\u001b[0m)             │             \u001b[38;5;34m0\u001b[0m │\n",
       "├─────────────────────────────────┼────────────────────────┼───────────────┤\n",
       "│ dense_1 (\u001b[38;5;33mDense\u001b[0m)                 │ (\u001b[38;5;45mNone\u001b[0m, \u001b[38;5;34m10\u001b[0m)             │           \u001b[38;5;34m110\u001b[0m │\n",
       "├─────────────────────────────────┼────────────────────────┼───────────────┤\n",
       "│ dropout_1 (\u001b[38;5;33mDropout\u001b[0m)             │ (\u001b[38;5;45mNone\u001b[0m, \u001b[38;5;34m10\u001b[0m)             │             \u001b[38;5;34m0\u001b[0m │\n",
       "├─────────────────────────────────┼────────────────────────┼───────────────┤\n",
       "│ dense_2 (\u001b[38;5;33mDense\u001b[0m)                 │ (\u001b[38;5;45mNone\u001b[0m, \u001b[38;5;34m1\u001b[0m)              │            \u001b[38;5;34m11\u001b[0m │\n",
       "└─────────────────────────────────┴────────────────────────┴───────────────┘\n"
      ]
     },
     "metadata": {},
     "output_type": "display_data"
    },
    {
     "data": {
      "text/html": [
       "<pre style=\"white-space:pre;overflow-x:auto;line-height:normal;font-family:Menlo,'DejaVu Sans Mono',consolas,'Courier New',monospace\"><span style=\"font-weight: bold\"> Total params: </span><span style=\"color: #00af00; text-decoration-color: #00af00\">651</span> (2.54 KB)\n",
       "</pre>\n"
      ],
      "text/plain": [
       "\u001b[1m Total params: \u001b[0m\u001b[38;5;34m651\u001b[0m (2.54 KB)\n"
      ]
     },
     "metadata": {},
     "output_type": "display_data"
    },
    {
     "data": {
      "text/html": [
       "<pre style=\"white-space:pre;overflow-x:auto;line-height:normal;font-family:Menlo,'DejaVu Sans Mono',consolas,'Courier New',monospace\"><span style=\"font-weight: bold\"> Trainable params: </span><span style=\"color: #00af00; text-decoration-color: #00af00\">651</span> (2.54 KB)\n",
       "</pre>\n"
      ],
      "text/plain": [
       "\u001b[1m Trainable params: \u001b[0m\u001b[38;5;34m651\u001b[0m (2.54 KB)\n"
      ]
     },
     "metadata": {},
     "output_type": "display_data"
    },
    {
     "data": {
      "text/html": [
       "<pre style=\"white-space:pre;overflow-x:auto;line-height:normal;font-family:Menlo,'DejaVu Sans Mono',consolas,'Courier New',monospace\"><span style=\"font-weight: bold\"> Non-trainable params: </span><span style=\"color: #00af00; text-decoration-color: #00af00\">0</span> (0.00 B)\n",
       "</pre>\n"
      ],
      "text/plain": [
       "\u001b[1m Non-trainable params: \u001b[0m\u001b[38;5;34m0\u001b[0m (0.00 B)\n"
      ]
     },
     "metadata": {},
     "output_type": "display_data"
    }
   ],
   "source": [
    "model = tf.keras.Sequential([\n",
    "    tf.keras.Input(shape=(52,)),  # 52 input features\n",
    "    tf.keras.layers.Dense(10, activation='relu', kernel_initializer='he_normal'),  # hidden layer 1\n",
    "    tf.keras.layers.Dropout(0.5),  # dropout to avoid overfitting\n",
    "    tf.keras.layers.Dense(10, activation='relu', kernel_initializer='he_normal'),  # hidden layer 2\n",
    "    tf.keras.layers.Dropout(0.5),  # dropout to avoid overfitting\n",
    "    tf.keras.layers.Dense(1, activation='sigmoid')  # output layer for binary classification\n",
    "])\n",
    "\n",
    "# Compile the model\n",
    "model.compile(\n",
    "    optimizer=Adam(learning_rate=0.0005),  # optimizer\n",
    "    loss='binary_crossentropy',            # binary classification loss\n",
    "    metrics=['accuracy', tf.keras.metrics.Recall()]  # metrics\n",
    ")\n",
    "\n",
    "# Summary\n",
    "model.summary()"
   ]
  },
  {
   "cell_type": "code",
   "execution_count": null,
   "id": "9dad716d",
   "metadata": {},
   "outputs": [
    {
     "name": "stdout",
     "output_type": "stream",
     "text": [
      "Epoch 1/30\n",
      "\u001b[1m641/641\u001b[0m \u001b[32m━━━━━━━━━━━━━━━━━━━━\u001b[0m\u001b[37m\u001b[0m \u001b[1m0s\u001b[0m 351us/step - accuracy: 0.9656 - loss: 0.0632 - recall: 0.9527\n",
      "Epoch 2/30\n",
      "\u001b[1m641/641\u001b[0m \u001b[32m━━━━━━━━━━━━━━━━━━━━\u001b[0m\u001b[37m\u001b[0m \u001b[1m0s\u001b[0m 378us/step - accuracy: 0.9657 - loss: 0.0650 - recall: 0.9509\n",
      "Epoch 3/30\n",
      "\u001b[1m641/641\u001b[0m \u001b[32m━━━━━━━━━━━━━━━━━━━━\u001b[0m\u001b[37m\u001b[0m \u001b[1m0s\u001b[0m 339us/step - accuracy: 0.9656 - loss: 0.0673 - recall: 0.9505\n",
      "Epoch 4/30\n",
      "\u001b[1m641/641\u001b[0m \u001b[32m━━━━━━━━━━━━━━━━━━━━\u001b[0m\u001b[37m\u001b[0m \u001b[1m0s\u001b[0m 351us/step - accuracy: 0.9669 - loss: 0.0573 - recall: 0.9499\n",
      "Epoch 5/30\n",
      "\u001b[1m641/641\u001b[0m \u001b[32m━━━━━━━━━━━━━━━━━━━━\u001b[0m\u001b[37m\u001b[0m \u001b[1m0s\u001b[0m 341us/step - accuracy: 0.9677 - loss: 0.0556 - recall: 0.9526\n",
      "Epoch 6/30\n",
      "\u001b[1m641/641\u001b[0m \u001b[32m━━━━━━━━━━━━━━━━━━━━\u001b[0m\u001b[37m\u001b[0m \u001b[1m0s\u001b[0m 365us/step - accuracy: 0.9679 - loss: 0.0539 - recall: 0.9488\n",
      "Epoch 7/30\n",
      "\u001b[1m641/641\u001b[0m \u001b[32m━━━━━━━━━━━━━━━━━━━━\u001b[0m\u001b[37m\u001b[0m \u001b[1m0s\u001b[0m 360us/step - accuracy: 0.9693 - loss: 0.0547 - recall: 0.9525\n",
      "Epoch 8/30\n",
      "\u001b[1m641/641\u001b[0m \u001b[32m━━━━━━━━━━━━━━━━━━━━\u001b[0m\u001b[37m\u001b[0m \u001b[1m0s\u001b[0m 342us/step - accuracy: 0.9683 - loss: 0.0508 - recall: 0.9538\n",
      "Epoch 9/30\n",
      "\u001b[1m641/641\u001b[0m \u001b[32m━━━━━━━━━━━━━━━━━━━━\u001b[0m\u001b[37m\u001b[0m \u001b[1m0s\u001b[0m 354us/step - accuracy: 0.9686 - loss: 0.0510 - recall: 0.9538\n",
      "Epoch 10/30\n",
      "\u001b[1m641/641\u001b[0m \u001b[32m━━━━━━━━━━━━━━━━━━━━\u001b[0m\u001b[37m\u001b[0m \u001b[1m0s\u001b[0m 347us/step - accuracy: 0.9686 - loss: 0.0522 - recall: 0.9497\n",
      "Epoch 11/30\n",
      "\u001b[1m641/641\u001b[0m \u001b[32m━━━━━━━━━━━━━━━━━━━━\u001b[0m\u001b[37m\u001b[0m \u001b[1m0s\u001b[0m 386us/step - accuracy: 0.9672 - loss: 0.0518 - recall: 0.9514\n",
      "Epoch 12/30\n",
      "\u001b[1m641/641\u001b[0m \u001b[32m━━━━━━━━━━━━━━━━━━━━\u001b[0m\u001b[37m\u001b[0m \u001b[1m0s\u001b[0m 376us/step - accuracy: 0.9684 - loss: 0.0538 - recall: 0.9544\n",
      "Epoch 13/30\n",
      "\u001b[1m641/641\u001b[0m \u001b[32m━━━━━━━━━━━━━━━━━━━━\u001b[0m\u001b[37m\u001b[0m \u001b[1m0s\u001b[0m 375us/step - accuracy: 0.9686 - loss: 0.0479 - recall: 0.9529\n",
      "Epoch 14/30\n",
      "\u001b[1m641/641\u001b[0m \u001b[32m━━━━━━━━━━━━━━━━━━━━\u001b[0m\u001b[37m\u001b[0m \u001b[1m0s\u001b[0m 373us/step - accuracy: 0.9667 - loss: 0.0496 - recall: 0.9488\n",
      "Epoch 15/30\n",
      "\u001b[1m641/641\u001b[0m \u001b[32m━━━━━━━━━━━━━━━━━━━━\u001b[0m\u001b[37m\u001b[0m \u001b[1m0s\u001b[0m 391us/step - accuracy: 0.9670 - loss: 0.0499 - recall: 0.9495\n",
      "Epoch 16/30\n",
      "\u001b[1m641/641\u001b[0m \u001b[32m━━━━━━━━━━━━━━━━━━━━\u001b[0m\u001b[37m\u001b[0m \u001b[1m0s\u001b[0m 385us/step - accuracy: 0.9663 - loss: 0.0516 - recall: 0.9481\n",
      "Epoch 17/30\n",
      "\u001b[1m641/641\u001b[0m \u001b[32m━━━━━━━━━━━━━━━━━━━━\u001b[0m\u001b[37m\u001b[0m \u001b[1m0s\u001b[0m 375us/step - accuracy: 0.9664 - loss: 0.0493 - recall: 0.9475\n",
      "Epoch 18/30\n",
      "\u001b[1m641/641\u001b[0m \u001b[32m━━━━━━━━━━━━━━━━━━━━\u001b[0m\u001b[37m\u001b[0m \u001b[1m0s\u001b[0m 400us/step - accuracy: 0.9689 - loss: 0.0482 - recall: 0.9487\n",
      "Epoch 19/30\n",
      "\u001b[1m641/641\u001b[0m \u001b[32m━━━━━━━━━━━━━━━━━━━━\u001b[0m\u001b[37m\u001b[0m \u001b[1m0s\u001b[0m 370us/step - accuracy: 0.9688 - loss: 0.0462 - recall: 0.9506\n",
      "Epoch 20/30\n",
      "\u001b[1m641/641\u001b[0m \u001b[32m━━━━━━━━━━━━━━━━━━━━\u001b[0m\u001b[37m\u001b[0m \u001b[1m0s\u001b[0m 373us/step - accuracy: 0.9676 - loss: 0.0482 - recall: 0.9494\n",
      "Epoch 21/30\n",
      "\u001b[1m641/641\u001b[0m \u001b[32m━━━━━━━━━━━━━━━━━━━━\u001b[0m\u001b[37m\u001b[0m \u001b[1m0s\u001b[0m 375us/step - accuracy: 0.9682 - loss: 0.0476 - recall: 0.9528\n",
      "Epoch 22/30\n",
      "\u001b[1m641/641\u001b[0m \u001b[32m━━━━━━━━━━━━━━━━━━━━\u001b[0m\u001b[37m\u001b[0m \u001b[1m0s\u001b[0m 390us/step - accuracy: 0.9681 - loss: 0.0491 - recall: 0.9544\n",
      "Epoch 23/30\n",
      "\u001b[1m641/641\u001b[0m \u001b[32m━━━━━━━━━━━━━━━━━━━━\u001b[0m\u001b[37m\u001b[0m \u001b[1m0s\u001b[0m 391us/step - accuracy: 0.9698 - loss: 0.0454 - recall: 0.9509\n",
      "Epoch 24/30\n",
      "\u001b[1m641/641\u001b[0m \u001b[32m━━━━━━━━━━━━━━━━━━━━\u001b[0m\u001b[37m\u001b[0m \u001b[1m0s\u001b[0m 377us/step - accuracy: 0.9683 - loss: 0.0470 - recall: 0.9475\n",
      "Epoch 25/30\n",
      "\u001b[1m641/641\u001b[0m \u001b[32m━━━━━━━━━━━━━━━━━━━━\u001b[0m\u001b[37m\u001b[0m \u001b[1m0s\u001b[0m 389us/step - accuracy: 0.9691 - loss: 0.0463 - recall: 0.9545\n",
      "Epoch 26/30\n",
      "\u001b[1m641/641\u001b[0m \u001b[32m━━━━━━━━━━━━━━━━━━━━\u001b[0m\u001b[37m\u001b[0m \u001b[1m0s\u001b[0m 412us/step - accuracy: 0.9694 - loss: 0.0477 - recall: 0.9497\n",
      "Epoch 27/30\n",
      "\u001b[1m641/641\u001b[0m \u001b[32m━━━━━━━━━━━━━━━━━━━━\u001b[0m\u001b[37m\u001b[0m \u001b[1m0s\u001b[0m 387us/step - accuracy: 0.9663 - loss: 0.0487 - recall: 0.9468\n",
      "Epoch 28/30\n",
      "\u001b[1m641/641\u001b[0m \u001b[32m━━━━━━━━━━━━━━━━━━━━\u001b[0m\u001b[37m\u001b[0m \u001b[1m0s\u001b[0m 373us/step - accuracy: 0.9687 - loss: 0.0474 - recall: 0.9459\n",
      "Epoch 29/30\n",
      "\u001b[1m641/641\u001b[0m \u001b[32m━━━━━━━━━━━━━━━━━━━━\u001b[0m\u001b[37m\u001b[0m \u001b[1m0s\u001b[0m 375us/step - accuracy: 0.9685 - loss: 0.0473 - recall: 0.9445\n",
      "Epoch 30/30\n",
      "\u001b[1m641/641\u001b[0m \u001b[32m━━━━━━━━━━━━━━━━━━━━\u001b[0m\u001b[37m\u001b[0m \u001b[1m0s\u001b[0m 390us/step - accuracy: 0.9681 - loss: 0.0473 - recall: 0.9468\n",
      "Training time = 7.513 seconds\n"
     ]
    }
   ],
   "source": [
    "full_start = time.time()\n",
    "model.fit(X_train, y_train,\n",
    "          epochs=30,\n",
    "          batch_size=64,\n",
    "          callbacks=[early_stop]\n",
    ")\n",
    "full_end = time.time()\n",
    "print(f\"Training time = {full_end - full_start:.3f} seconds\")"
   ]
  },
  {
   "cell_type": "markdown",
   "id": "505ddfc4",
   "metadata": {},
   "source": [
    "## LSTM-BC: Long Short-Term Memory for Binary Classification"
   ]
  },
  {
   "cell_type": "code",
   "execution_count": 18,
   "id": "2cd9550e",
   "metadata": {},
   "outputs": [],
   "source": [
    "X_train_lstm = X_train.reshape((X_train.shape[0], 1, X_train.shape[1])).astype(np.float32)\n",
    "X_test_lstm  = X_test.reshape((X_test.shape[0], 1, X_test.shape[1])).astype(np.float32)"
   ]
  },
  {
   "cell_type": "code",
   "execution_count": 19,
   "id": "e34b3e6e",
   "metadata": {},
   "outputs": [],
   "source": [
    "y_train = np.asarray(y_train).astype(np.float32)\n",
    "y_test  = np.asarray(y_test).astype(np.float32)"
   ]
  },
  {
   "cell_type": "code",
   "execution_count": 20,
   "id": "c89ade2f",
   "metadata": {},
   "outputs": [
    {
     "data": {
      "text/html": [
       "<pre style=\"white-space:pre;overflow-x:auto;line-height:normal;font-family:Menlo,'DejaVu Sans Mono',consolas,'Courier New',monospace\"><span style=\"font-weight: bold\">Model: \"sequential_1\"</span>\n",
       "</pre>\n"
      ],
      "text/plain": [
       "\u001b[1mModel: \"sequential_1\"\u001b[0m\n"
      ]
     },
     "metadata": {},
     "output_type": "display_data"
    },
    {
     "data": {
      "text/html": [
       "<pre style=\"white-space:pre;overflow-x:auto;line-height:normal;font-family:Menlo,'DejaVu Sans Mono',consolas,'Courier New',monospace\">┏━━━━━━━━━━━━━━━━━━━━━━━━━━━━━━━━━┳━━━━━━━━━━━━━━━━━━━━━━━━┳━━━━━━━━━━━━━━━┓\n",
       "┃<span style=\"font-weight: bold\"> Layer (type)                    </span>┃<span style=\"font-weight: bold\"> Output Shape           </span>┃<span style=\"font-weight: bold\">       Param # </span>┃\n",
       "┡━━━━━━━━━━━━━━━━━━━━━━━━━━━━━━━━━╇━━━━━━━━━━━━━━━━━━━━━━━━╇━━━━━━━━━━━━━━━┩\n",
       "│ lstm (<span style=\"color: #0087ff; text-decoration-color: #0087ff\">LSTM</span>)                     │ (<span style=\"color: #00d7ff; text-decoration-color: #00d7ff\">None</span>, <span style=\"color: #00af00; text-decoration-color: #00af00\">13</span>)             │         <span style=\"color: #00af00; text-decoration-color: #00af00\">3,432</span> │\n",
       "├─────────────────────────────────┼────────────────────────┼───────────────┤\n",
       "│ dense_3 (<span style=\"color: #0087ff; text-decoration-color: #0087ff\">Dense</span>)                 │ (<span style=\"color: #00d7ff; text-decoration-color: #00d7ff\">None</span>, <span style=\"color: #00af00; text-decoration-color: #00af00\">1</span>)              │            <span style=\"color: #00af00; text-decoration-color: #00af00\">14</span> │\n",
       "└─────────────────────────────────┴────────────────────────┴───────────────┘\n",
       "</pre>\n"
      ],
      "text/plain": [
       "┏━━━━━━━━━━━━━━━━━━━━━━━━━━━━━━━━━┳━━━━━━━━━━━━━━━━━━━━━━━━┳━━━━━━━━━━━━━━━┓\n",
       "┃\u001b[1m \u001b[0m\u001b[1mLayer (type)                   \u001b[0m\u001b[1m \u001b[0m┃\u001b[1m \u001b[0m\u001b[1mOutput Shape          \u001b[0m\u001b[1m \u001b[0m┃\u001b[1m \u001b[0m\u001b[1m      Param #\u001b[0m\u001b[1m \u001b[0m┃\n",
       "┡━━━━━━━━━━━━━━━━━━━━━━━━━━━━━━━━━╇━━━━━━━━━━━━━━━━━━━━━━━━╇━━━━━━━━━━━━━━━┩\n",
       "│ lstm (\u001b[38;5;33mLSTM\u001b[0m)                     │ (\u001b[38;5;45mNone\u001b[0m, \u001b[38;5;34m13\u001b[0m)             │         \u001b[38;5;34m3,432\u001b[0m │\n",
       "├─────────────────────────────────┼────────────────────────┼───────────────┤\n",
       "│ dense_3 (\u001b[38;5;33mDense\u001b[0m)                 │ (\u001b[38;5;45mNone\u001b[0m, \u001b[38;5;34m1\u001b[0m)              │            \u001b[38;5;34m14\u001b[0m │\n",
       "└─────────────────────────────────┴────────────────────────┴───────────────┘\n"
      ]
     },
     "metadata": {},
     "output_type": "display_data"
    },
    {
     "data": {
      "text/html": [
       "<pre style=\"white-space:pre;overflow-x:auto;line-height:normal;font-family:Menlo,'DejaVu Sans Mono',consolas,'Courier New',monospace\"><span style=\"font-weight: bold\"> Total params: </span><span style=\"color: #00af00; text-decoration-color: #00af00\">3,446</span> (13.46 KB)\n",
       "</pre>\n"
      ],
      "text/plain": [
       "\u001b[1m Total params: \u001b[0m\u001b[38;5;34m3,446\u001b[0m (13.46 KB)\n"
      ]
     },
     "metadata": {},
     "output_type": "display_data"
    },
    {
     "data": {
      "text/html": [
       "<pre style=\"white-space:pre;overflow-x:auto;line-height:normal;font-family:Menlo,'DejaVu Sans Mono',consolas,'Courier New',monospace\"><span style=\"font-weight: bold\"> Trainable params: </span><span style=\"color: #00af00; text-decoration-color: #00af00\">3,446</span> (13.46 KB)\n",
       "</pre>\n"
      ],
      "text/plain": [
       "\u001b[1m Trainable params: \u001b[0m\u001b[38;5;34m3,446\u001b[0m (13.46 KB)\n"
      ]
     },
     "metadata": {},
     "output_type": "display_data"
    },
    {
     "data": {
      "text/html": [
       "<pre style=\"white-space:pre;overflow-x:auto;line-height:normal;font-family:Menlo,'DejaVu Sans Mono',consolas,'Courier New',monospace\"><span style=\"font-weight: bold\"> Non-trainable params: </span><span style=\"color: #00af00; text-decoration-color: #00af00\">0</span> (0.00 B)\n",
       "</pre>\n"
      ],
      "text/plain": [
       "\u001b[1m Non-trainable params: \u001b[0m\u001b[38;5;34m0\u001b[0m (0.00 B)\n"
      ]
     },
     "metadata": {},
     "output_type": "display_data"
    }
   ],
   "source": [
    "lstm_bc = tf.keras.Sequential([\n",
    "    tf.keras.Input(shape=(1, 52)),                # (timesteps, 52 features)\n",
    "    tf.keras.layers.LSTM(13, activation='relu'),     # outputs 13-d vector\n",
    "    tf.keras.layers.Dense(1, activation='sigmoid')   # binary output\n",
    "])\n",
    "\n",
    "lstm_bc.compile(\n",
    "    optimizer=Adam(learning_rate=0.0005),\n",
    "    loss='binary_crossentropy',\n",
    "    metrics=['accuracy', tf.keras.metrics.Recall(name=\"recall\")]\n",
    ")\n",
    "\n",
    "lstm_bc.summary()"
   ]
  },
  {
   "cell_type": "code",
   "execution_count": 21,
   "id": "17f549d4",
   "metadata": {},
   "outputs": [
    {
     "name": "stdout",
     "output_type": "stream",
     "text": [
      "Epoch 1/30\n",
      "\u001b[1m641/641\u001b[0m \u001b[32m━━━━━━━━━━━━━━━━━━━━\u001b[0m\u001b[37m\u001b[0m \u001b[1m1s\u001b[0m 445us/step - accuracy: 0.9030 - loss: 0.3179 - recall: 0.8512\n",
      "Epoch 2/30\n",
      "\u001b[1m641/641\u001b[0m \u001b[32m━━━━━━━━━━━━━━━━━━━━\u001b[0m\u001b[37m\u001b[0m \u001b[1m0s\u001b[0m 432us/step - accuracy: 0.9971 - loss: 0.0160 - recall: 0.9981\n",
      "Epoch 3/30\n",
      "\u001b[1m641/641\u001b[0m \u001b[32m━━━━━━━━━━━━━━━━━━━━\u001b[0m\u001b[37m\u001b[0m \u001b[1m0s\u001b[0m 433us/step - accuracy: 0.9980 - loss: 0.0089 - recall: 0.9980\n",
      "Epoch 4/30\n",
      "\u001b[1m641/641\u001b[0m \u001b[32m━━━━━━━━━━━━━━━━━━━━\u001b[0m\u001b[37m\u001b[0m \u001b[1m0s\u001b[0m 466us/step - accuracy: 0.9989 - loss: 0.0066 - recall: 0.9989\n",
      "Epoch 5/30\n",
      "\u001b[1m641/641\u001b[0m \u001b[32m━━━━━━━━━━━━━━━━━━━━\u001b[0m\u001b[37m\u001b[0m \u001b[1m0s\u001b[0m 434us/step - accuracy: 0.9990 - loss: 0.0052 - recall: 0.9991\n",
      "Epoch 6/30\n",
      "\u001b[1m641/641\u001b[0m \u001b[32m━━━━━━━━━━━━━━━━━━━━\u001b[0m\u001b[37m\u001b[0m \u001b[1m0s\u001b[0m 430us/step - accuracy: 0.9991 - loss: 0.0040 - recall: 0.9991\n",
      "Epoch 7/30\n",
      "\u001b[1m641/641\u001b[0m \u001b[32m━━━━━━━━━━━━━━━━━━━━\u001b[0m\u001b[37m\u001b[0m \u001b[1m0s\u001b[0m 431us/step - accuracy: 0.9991 - loss: 0.0041 - recall: 0.9991\n",
      "Epoch 8/30\n",
      "\u001b[1m641/641\u001b[0m \u001b[32m━━━━━━━━━━━━━━━━━━━━\u001b[0m\u001b[37m\u001b[0m \u001b[1m0s\u001b[0m 433us/step - accuracy: 0.9993 - loss: 0.0039 - recall: 0.9995\n",
      "Epoch 9/30\n",
      "\u001b[1m641/641\u001b[0m \u001b[32m━━━━━━━━━━━━━━━━━━━━\u001b[0m\u001b[37m\u001b[0m \u001b[1m0s\u001b[0m 437us/step - accuracy: 0.9994 - loss: 0.0034 - recall: 0.9997\n",
      "Epoch 10/30\n",
      "\u001b[1m641/641\u001b[0m \u001b[32m━━━━━━━━━━━━━━━━━━━━\u001b[0m\u001b[37m\u001b[0m \u001b[1m0s\u001b[0m 441us/step - accuracy: 0.9993 - loss: 0.0034 - recall: 0.9996\n",
      "Epoch 11/30\n",
      "\u001b[1m641/641\u001b[0m \u001b[32m━━━━━━━━━━━━━━━━━━━━\u001b[0m\u001b[37m\u001b[0m \u001b[1m0s\u001b[0m 486us/step - accuracy: 0.9995 - loss: 0.0025 - recall: 0.9998\n",
      "Epoch 12/30\n",
      "\u001b[1m641/641\u001b[0m \u001b[32m━━━━━━━━━━━━━━━━━━━━\u001b[0m\u001b[37m\u001b[0m \u001b[1m0s\u001b[0m 455us/step - accuracy: 0.9993 - loss: 0.0024 - recall: 0.9997\n",
      "Epoch 13/30\n",
      "\u001b[1m641/641\u001b[0m \u001b[32m━━━━━━━━━━━━━━━━━━━━\u001b[0m\u001b[37m\u001b[0m \u001b[1m0s\u001b[0m 434us/step - accuracy: 0.9994 - loss: 0.0017 - recall: 0.9998\n",
      "Epoch 14/30\n",
      "\u001b[1m641/641\u001b[0m \u001b[32m━━━━━━━━━━━━━━━━━━━━\u001b[0m\u001b[37m\u001b[0m \u001b[1m0s\u001b[0m 429us/step - accuracy: 0.9995 - loss: 0.0013 - recall: 0.9999\n",
      "Epoch 15/30\n",
      "\u001b[1m641/641\u001b[0m \u001b[32m━━━━━━━━━━━━━━━━━━━━\u001b[0m\u001b[37m\u001b[0m \u001b[1m0s\u001b[0m 430us/step - accuracy: 0.9994 - loss: 0.0014 - recall: 0.9998\n",
      "Epoch 16/30\n",
      "\u001b[1m641/641\u001b[0m \u001b[32m━━━━━━━━━━━━━━━━━━━━\u001b[0m\u001b[37m\u001b[0m \u001b[1m0s\u001b[0m 433us/step - accuracy: 0.9994 - loss: 0.0013 - recall: 1.0000\n",
      "Epoch 17/30\n",
      "\u001b[1m641/641\u001b[0m \u001b[32m━━━━━━━━━━━━━━━━━━━━\u001b[0m\u001b[37m\u001b[0m \u001b[1m0s\u001b[0m 440us/step - accuracy: 0.9997 - loss: 8.4861e-04 - recall: 1.0000\n",
      "Epoch 17: early stopping\n",
      "Training time = 5.458 seconds\n"
     ]
    }
   ],
   "source": [
    "full_start = time.time()\n",
    "lstm_bc.fit(X_train_lstm, y_train,\n",
    "          epochs=30,\n",
    "          batch_size=64,\n",
    "          verbose=1,\n",
    "          callbacks=[early_stop]\n",
    ")\n",
    "full_end = time.time()\n",
    "print(f\"Training time = {full_end - full_start:.3f} seconds\")\n"
   ]
  },
  {
   "cell_type": "code",
   "execution_count": 22,
   "id": "ef6f4723",
   "metadata": {},
   "outputs": [
    {
     "name": "stdout",
     "output_type": "stream",
     "text": [
      "\u001b[1m550/550\u001b[0m \u001b[32m━━━━━━━━━━━━━━━━━━━━\u001b[0m\u001b[37m\u001b[0m \u001b[1m0s\u001b[0m 378us/step - accuracy: 0.9982 - loss: 0.0076 - recall: 0.9988 \n",
      "Test Loss: 0.0070\n",
      "Test Accuracy: 0.9981\n",
      "Test precision: 0.9986\n",
      "\u001b[1m550/550\u001b[0m \u001b[32m━━━━━━━━━━━━━━━━━━━━\u001b[0m\u001b[37m\u001b[0m \u001b[1m0s\u001b[0m 264us/step\n",
      "              precision    recall  f1-score   support\n",
      "\n",
      "         0.0       1.00      1.00      1.00      8767\n",
      "         1.0       1.00      1.00      1.00      8812\n",
      "\n",
      "    accuracy                           1.00     17579\n",
      "   macro avg       1.00      1.00      1.00     17579\n",
      "weighted avg       1.00      1.00      1.00     17579\n",
      "\n"
     ]
    },
    {
     "data": {
      "image/png": "[encoded data removed]",
      "text/plain": [
       "<Figure size 640x480 with 2 Axes>"
      ]
     },
     "metadata": {},
     "output_type": "display_data"
    }
   ],
   "source": [
    "loss, acc , precision= model.evaluate(X_test, y_test)\n",
    "print(f\"Test Loss: {loss:.4f}\")\n",
    "print(f\"Test Accuracy: {acc:.4f}\")\n",
    "print(f\"Test precision: {precision:.4f}\")\n",
    "\n",
    "# Classification Report\n",
    "y_pred = (model.predict(X_test) > 0.5).astype(\"int32\")\n",
    "print(classification_report(y_test, y_pred))\n",
    "\n",
    "# Confusion Matrix\n",
    "cm = confusion_matrix(y_test, y_pred)\n",
    "sns.heatmap(cm, annot=True, fmt=\"d\", cmap=\"Blues\", xticklabels=[\"Benign\", \"Malware\"], yticklabels=[\"Benign\", \"Malware\"])\n",
    "plt.xlabel(\"Predicted\")\n",
    "plt.ylabel(\"True\")\n",
    "plt.title(\"Confusion Matrix\")\n",
    "plt.show()\n"
   ]
  },
  {
   "cell_type": "code",
   "execution_count": 22,
   "id": "137882cf",
   "metadata": {},
   "outputs": [
    {
     "name": "stdout",
     "output_type": "stream",
     "text": [
      "\u001b[1m550/550\u001b[0m \u001b[32m━━━━━━━━━━━━━━━━━━━━\u001b[0m\u001b[37m\u001b[0m \u001b[1m0s\u001b[0m 305us/step - accuracy: 0.9992 - loss: 0.0014 - recall: 0.9999   \n",
      "Test Loss: 0.0012\n",
      "Test Accuracy: 0.9993\n",
      "Test precision: 0.9999\n",
      "\u001b[1m550/550\u001b[0m \u001b[32m━━━━━━━━━━━━━━━━━━━━\u001b[0m\u001b[37m\u001b[0m \u001b[1m0s\u001b[0m 288us/step\n",
      "              precision    recall  f1-score   support\n",
      "\n",
      "         0.0       1.00      1.00      1.00      8767\n",
      "         1.0       1.00      1.00      1.00      8812\n",
      "\n",
      "    accuracy                           1.00     17579\n",
      "   macro avg       1.00      1.00      1.00     17579\n",
      "weighted avg       1.00      1.00      1.00     17579\n",
      "\n"
     ]
    },
    {
     "data": {
      "image/png": "[encoded data removed]",
      "text/plain": [
       "<Figure size 640x480 with 2 Axes>"
      ]
     },
     "metadata": {},
     "output_type": "display_data"
    }
   ],
   "source": [
    "loss, acc , precision= lstm_bc.evaluate(X_test_lstm, y_test)\n",
    "print(f\"Test Loss: {loss:.4f}\")\n",
    "print(f\"Test Accuracy: {acc:.4f}\")\n",
    "print(f\"Test precision: {precision:.4f}\")\n",
    "\n",
    "# Classification Report\n",
    "y_pred = (lstm_bc.predict(X_test_lstm) > 0.5).astype(\"int32\")\n",
    "print(classification_report(y_test, y_pred))\n",
    "\n",
    "# Confusion Matrix\n",
    "cm = confusion_matrix(y_test, y_pred)\n",
    "sns.heatmap(cm, annot=True, fmt=\"d\", cmap=\"Blues\", xticklabels=[\"Benign\", \"Malware\"], yticklabels=[\"Benign\", \"Malware\"])\n",
    "plt.xlabel(\"Predicted\")\n",
    "plt.ylabel(\"True\")\n",
    "plt.title(\"Confusion Matrix\")\n",
    "plt.show()"
   ]
  },
  {
   "cell_type": "code",
   "execution_count": 24,
   "id": "e042b218",
   "metadata": {},
   "outputs": [],
   "source": [
    "# Save full model (preferred modern way)\n",
    "model.save(\"global_FNN_model.keras\")\n",
    "lstm_bc.save(\"global_lstm_model.keras\")"
   ]
  }
 ],
 "metadata": {
  "kernelspec": {
   "display_name": "base",
   "language": "python",
   "name": "python3"
  },
  "language_info": {
   "codemirror_mode": {
    "name": "ipython",
    "version": 3
   },
   "file_extension": ".py",
   "mimetype": "text/x-python",
   "name": "python",
   "nbconvert_exporter": "python",
   "pygments_lexer": "ipython3",
   "version": "3.12.7"
  }
 },
 "nbformat": 4,
 "nbformat_minor": 5
}
