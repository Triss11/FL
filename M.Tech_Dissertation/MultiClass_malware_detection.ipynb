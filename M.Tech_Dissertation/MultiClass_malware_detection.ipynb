{
 "cells": [
  {
   "cell_type": "code",
   "execution_count": 1,
   "id": "7c7913a6",
   "metadata": {},
   "outputs": [],
   "source": [
    "import pandas as pd\n",
    "import numpy as np\n",
    "import matplotlib.pyplot as plt\n",
    "import seaborn as sns\n",
    "import tensorflow as tf\n",
    "from sklearn.model_selection import train_test_split\n",
    "from sklearn.preprocessing import StandardScaler\n",
    "from sklearn.metrics import classification_report, confusion_matrix\n",
    "from sklearn.decomposition import PCA\n",
    "import xgboost as xgb\n",
    "from tensorflow.keras.optimizers import Adam\n",
    "from sklearn.utils import class_weight\n",
    "from tensorflow.keras.callbacks import EarlyStopping, ModelCheckpoint\n",
    "import time\n",
    "import os\n",
    "from typing import Dict, List, Tuple\n",
    "import re\n",
    "from sklearn.preprocessing import LabelEncoder, StandardScaler\n",
    "from tensorflow.keras import Sequential, layers"
   ]
  },
  {
   "cell_type": "code",
   "execution_count": 2,
   "id": "4d596479",
   "metadata": {},
   "outputs": [
    {
     "data": {
      "text/html": [
       "<div>\n",
       "<style scoped>\n",
       "    .dataframe tbody tr th:only-of-type {\n",
       "        vertical-align: middle;\n",
       "    }\n",
       "\n",
       "    .dataframe tbody tr th {\n",
       "        vertical-align: top;\n",
       "    }\n",
       "\n",
       "    .dataframe thead th {\n",
       "        text-align: right;\n",
       "    }\n",
       "</style>\n",
       "<table border=\"1\" class=\"dataframe\">\n",
       "  <thead>\n",
       "    <tr style=\"text-align: right;\">\n",
       "      <th></th>\n",
       "      <th>Category</th>\n",
       "      <th>pslist.nproc</th>\n",
       "      <th>pslist.nppid</th>\n",
       "      <th>pslist.avg_threads</th>\n",
       "      <th>pslist.nprocs64bit</th>\n",
       "      <th>pslist.avg_handlers</th>\n",
       "      <th>dlllist.ndlls</th>\n",
       "      <th>dlllist.avg_dlls_per_proc</th>\n",
       "      <th>handles.nhandles</th>\n",
       "      <th>handles.avg_handles_per_proc</th>\n",
       "      <th>...</th>\n",
       "      <th>svcscan.kernel_drivers</th>\n",
       "      <th>svcscan.fs_drivers</th>\n",
       "      <th>svcscan.process_services</th>\n",
       "      <th>svcscan.shared_process_services</th>\n",
       "      <th>svcscan.interactive_process_services</th>\n",
       "      <th>svcscan.nactive</th>\n",
       "      <th>callbacks.ncallbacks</th>\n",
       "      <th>callbacks.nanonymous</th>\n",
       "      <th>callbacks.ngeneric</th>\n",
       "      <th>Class</th>\n",
       "    </tr>\n",
       "  </thead>\n",
       "  <tbody>\n",
       "    <tr>\n",
       "      <th>0</th>\n",
       "      <td>Benign</td>\n",
       "      <td>45</td>\n",
       "      <td>17</td>\n",
       "      <td>10.555556</td>\n",
       "      <td>0</td>\n",
       "      <td>202.844444</td>\n",
       "      <td>1694</td>\n",
       "      <td>38.500000</td>\n",
       "      <td>9129</td>\n",
       "      <td>212.302326</td>\n",
       "      <td>...</td>\n",
       "      <td>221</td>\n",
       "      <td>26</td>\n",
       "      <td>24</td>\n",
       "      <td>116</td>\n",
       "      <td>0</td>\n",
       "      <td>121</td>\n",
       "      <td>87</td>\n",
       "      <td>0</td>\n",
       "      <td>8</td>\n",
       "      <td>Benign</td>\n",
       "    </tr>\n",
       "    <tr>\n",
       "      <th>1</th>\n",
       "      <td>Benign</td>\n",
       "      <td>47</td>\n",
       "      <td>19</td>\n",
       "      <td>11.531915</td>\n",
       "      <td>0</td>\n",
       "      <td>242.234043</td>\n",
       "      <td>2074</td>\n",
       "      <td>44.127660</td>\n",
       "      <td>11385</td>\n",
       "      <td>242.234043</td>\n",
       "      <td>...</td>\n",
       "      <td>222</td>\n",
       "      <td>26</td>\n",
       "      <td>24</td>\n",
       "      <td>118</td>\n",
       "      <td>0</td>\n",
       "      <td>122</td>\n",
       "      <td>87</td>\n",
       "      <td>0</td>\n",
       "      <td>8</td>\n",
       "      <td>Benign</td>\n",
       "    </tr>\n",
       "    <tr>\n",
       "      <th>2</th>\n",
       "      <td>Benign</td>\n",
       "      <td>40</td>\n",
       "      <td>14</td>\n",
       "      <td>14.725000</td>\n",
       "      <td>0</td>\n",
       "      <td>288.225000</td>\n",
       "      <td>1932</td>\n",
       "      <td>48.300000</td>\n",
       "      <td>11529</td>\n",
       "      <td>288.225000</td>\n",
       "      <td>...</td>\n",
       "      <td>222</td>\n",
       "      <td>26</td>\n",
       "      <td>27</td>\n",
       "      <td>118</td>\n",
       "      <td>0</td>\n",
       "      <td>120</td>\n",
       "      <td>88</td>\n",
       "      <td>0</td>\n",
       "      <td>8</td>\n",
       "      <td>Benign</td>\n",
       "    </tr>\n",
       "    <tr>\n",
       "      <th>3</th>\n",
       "      <td>Benign</td>\n",
       "      <td>32</td>\n",
       "      <td>13</td>\n",
       "      <td>13.500000</td>\n",
       "      <td>0</td>\n",
       "      <td>264.281250</td>\n",
       "      <td>1445</td>\n",
       "      <td>45.156250</td>\n",
       "      <td>8457</td>\n",
       "      <td>264.281250</td>\n",
       "      <td>...</td>\n",
       "      <td>222</td>\n",
       "      <td>26</td>\n",
       "      <td>27</td>\n",
       "      <td>118</td>\n",
       "      <td>0</td>\n",
       "      <td>120</td>\n",
       "      <td>88</td>\n",
       "      <td>0</td>\n",
       "      <td>8</td>\n",
       "      <td>Benign</td>\n",
       "    </tr>\n",
       "    <tr>\n",
       "      <th>4</th>\n",
       "      <td>Benign</td>\n",
       "      <td>42</td>\n",
       "      <td>16</td>\n",
       "      <td>11.452381</td>\n",
       "      <td>0</td>\n",
       "      <td>281.333333</td>\n",
       "      <td>2067</td>\n",
       "      <td>49.214286</td>\n",
       "      <td>11816</td>\n",
       "      <td>281.333333</td>\n",
       "      <td>...</td>\n",
       "      <td>222</td>\n",
       "      <td>26</td>\n",
       "      <td>24</td>\n",
       "      <td>118</td>\n",
       "      <td>0</td>\n",
       "      <td>124</td>\n",
       "      <td>87</td>\n",
       "      <td>0</td>\n",
       "      <td>8</td>\n",
       "      <td>Benign</td>\n",
       "    </tr>\n",
       "  </tbody>\n",
       "</table>\n",
       "<p>5 rows × 57 columns</p>\n",
       "</div>"
      ],
      "text/plain": [
       "  Category  pslist.nproc  pslist.nppid  pslist.avg_threads  \\\n",
       "0   Benign            45            17           10.555556   \n",
       "1   Benign            47            19           11.531915   \n",
       "2   Benign            40            14           14.725000   \n",
       "3   Benign            32            13           13.500000   \n",
       "4   Benign            42            16           11.452381   \n",
       "\n",
       "   pslist.nprocs64bit  pslist.avg_handlers  dlllist.ndlls  \\\n",
       "0                   0           202.844444           1694   \n",
       "1                   0           242.234043           2074   \n",
       "2                   0           288.225000           1932   \n",
       "3                   0           264.281250           1445   \n",
       "4                   0           281.333333           2067   \n",
       "\n",
       "   dlllist.avg_dlls_per_proc  handles.nhandles  handles.avg_handles_per_proc  \\\n",
       "0                  38.500000              9129                    212.302326   \n",
       "1                  44.127660             11385                    242.234043   \n",
       "2                  48.300000             11529                    288.225000   \n",
       "3                  45.156250              8457                    264.281250   \n",
       "4                  49.214286             11816                    281.333333   \n",
       "\n",
       "   ...  svcscan.kernel_drivers  svcscan.fs_drivers  svcscan.process_services  \\\n",
       "0  ...                     221                  26                        24   \n",
       "1  ...                     222                  26                        24   \n",
       "2  ...                     222                  26                        27   \n",
       "3  ...                     222                  26                        27   \n",
       "4  ...                     222                  26                        24   \n",
       "\n",
       "   svcscan.shared_process_services  svcscan.interactive_process_services  \\\n",
       "0                              116                                     0   \n",
       "1                              118                                     0   \n",
       "2                              118                                     0   \n",
       "3                              118                                     0   \n",
       "4                              118                                     0   \n",
       "\n",
       "   svcscan.nactive  callbacks.ncallbacks  callbacks.nanonymous  \\\n",
       "0              121                    87                     0   \n",
       "1              122                    87                     0   \n",
       "2              120                    88                     0   \n",
       "3              120                    88                     0   \n",
       "4              124                    87                     0   \n",
       "\n",
       "   callbacks.ngeneric   Class  \n",
       "0                   8  Benign  \n",
       "1                   8  Benign  \n",
       "2                   8  Benign  \n",
       "3                   8  Benign  \n",
       "4                   8  Benign  \n",
       "\n",
       "[5 rows x 57 columns]"
      ]
     },
     "execution_count": 2,
     "metadata": {},
     "output_type": "execute_result"
    }
   ],
   "source": [
    "df = pd.read_csv(\"/Users/sohinikar/M.Tech_Dissertation/Obfuscated-MalMem2022.csv\")\n",
    "df.head()"
   ]
  },
  {
   "cell_type": "markdown",
   "id": "89a0bb40",
   "metadata": {},
   "source": [
    "# Data Cleaning"
   ]
  },
  {
   "cell_type": "code",
   "execution_count": 3,
   "id": "6a7019c5",
   "metadata": {},
   "outputs": [
    {
     "name": "stdout",
     "output_type": "stream",
     "text": [
      "All values in pslist.nprocs64bit are identical.\n",
      "All values in handles.nport are identical.\n",
      "All values in svcscan.interactive_process_services are identical.\n"
     ]
    }
   ],
   "source": [
    "# checking all the values in the columns are indetical\n",
    "for column in df.columns:\n",
    "    if df[column].nunique() == 1:\n",
    "        print(f\"All values in {column} are identical.\")"
   ]
  },
  {
   "cell_type": "code",
   "execution_count": 4,
   "id": "18fc416c",
   "metadata": {},
   "outputs": [],
   "source": [
    "columns_to_drop = ['pslist.nprocs64bit', 'handles.nport', 'svcscan.interactive_process_services']\n",
    "\n",
    "# Drop the specified columns\n",
    "df.drop(columns=columns_to_drop, inplace=True)"
   ]
  },
  {
   "cell_type": "code",
   "execution_count": 5,
   "id": "55106b42",
   "metadata": {},
   "outputs": [
    {
     "name": "stdout",
     "output_type": "stream",
     "text": [
      "Columns with nulls: []\n"
     ]
    }
   ],
   "source": [
    "#checking for columns with null values\n",
    "\n",
    "null_columns = df.columns[df.isnull().any()]\n",
    "print(\"Columns with nulls:\", list(null_columns))"
   ]
  },
  {
   "cell_type": "markdown",
   "id": "40109cc1",
   "metadata": {},
   "source": [
    "# Encoding"
   ]
  },
  {
   "cell_type": "code",
   "execution_count": 6,
   "id": "1f66e560",
   "metadata": {},
   "outputs": [],
   "source": [
    "def clean_category(value):\n",
    "    if pd.isnull(value):\n",
    "        return value\n",
    "    # Split at the first \"-\" and take only the first part\n",
    "    family = value.split(\"-\")[0]\n",
    "    # Convert to lowercase and remove extra spaces\n",
    "    family = re.sub(r'\\s+', ' ', family.strip().lower())\n",
    "    return family\n",
    "\n",
    "df[\"Category\"] = df[\"Category\"].apply(clean_category)\n"
   ]
  },
  {
   "cell_type": "code",
   "execution_count": 7,
   "id": "ace5a373",
   "metadata": {},
   "outputs": [],
   "source": [
    "X = df.drop(columns=[\"Category\",\"Class\"])   # all columns except Category are features\n",
    "y = df[\"Category\"]                  # Category is the target"
   ]
  },
  {
   "cell_type": "code",
   "execution_count": 8,
   "id": "071a83f9",
   "metadata": {},
   "outputs": [
    {
     "data": {
      "text/plain": [
       "(58596, 52)"
      ]
     },
     "execution_count": 8,
     "metadata": {},
     "output_type": "execute_result"
    }
   ],
   "source": [
    "X.shape"
   ]
  },
  {
   "cell_type": "code",
   "execution_count": 9,
   "id": "76cf0eda",
   "metadata": {},
   "outputs": [],
   "source": [
    "le = LabelEncoder()\n",
    "y_encoded = le.fit_transform(y)"
   ]
  },
  {
   "cell_type": "code",
   "execution_count": 10,
   "id": "43823d4c",
   "metadata": {},
   "outputs": [],
   "source": [
    "scaler = StandardScaler()\n",
    "X_scaled = scaler.fit_transform(X)"
   ]
  },
  {
   "cell_type": "code",
   "execution_count": 11,
   "id": "a73cd270",
   "metadata": {},
   "outputs": [],
   "source": [
    "X_train, X_test, y_train, y_test = train_test_split(\n",
    "    X_scaled, y_encoded, test_size=0.2, random_state=42, stratify=y_encoded\n",
    ")"
   ]
  },
  {
   "cell_type": "code",
   "execution_count": 12,
   "id": "bb3a5589",
   "metadata": {},
   "outputs": [
    {
     "data": {
      "text/html": [
       "<pre style=\"white-space:pre;overflow-x:auto;line-height:normal;font-family:Menlo,'DejaVu Sans Mono',consolas,'Courier New',monospace\"><span style=\"font-weight: bold\">Model: \"sequential\"</span>\n",
       "</pre>\n"
      ],
      "text/plain": [
       "\u001b[1mModel: \"sequential\"\u001b[0m\n"
      ]
     },
     "metadata": {},
     "output_type": "display_data"
    },
    {
     "data": {
      "text/html": [
       "<pre style=\"white-space:pre;overflow-x:auto;line-height:normal;font-family:Menlo,'DejaVu Sans Mono',consolas,'Courier New',monospace\">┏━━━━━━━━━━━━━━━━━━━━━━━━━━━━━━━━━┳━━━━━━━━━━━━━━━━━━━━━━━━┳━━━━━━━━━━━━━━━┓\n",
       "┃<span style=\"font-weight: bold\"> Layer (type)                    </span>┃<span style=\"font-weight: bold\"> Output Shape           </span>┃<span style=\"font-weight: bold\">       Param # </span>┃\n",
       "┡━━━━━━━━━━━━━━━━━━━━━━━━━━━━━━━━━╇━━━━━━━━━━━━━━━━━━━━━━━━╇━━━━━━━━━━━━━━━┩\n",
       "│ dense (<span style=\"color: #0087ff; text-decoration-color: #0087ff\">Dense</span>)                   │ (<span style=\"color: #00d7ff; text-decoration-color: #00d7ff\">None</span>, <span style=\"color: #00af00; text-decoration-color: #00af00\">210</span>)            │        <span style=\"color: #00af00; text-decoration-color: #00af00\">11,130</span> │\n",
       "├─────────────────────────────────┼────────────────────────┼───────────────┤\n",
       "│ dense_1 (<span style=\"color: #0087ff; text-decoration-color: #0087ff\">Dense</span>)                 │ (<span style=\"color: #00d7ff; text-decoration-color: #00d7ff\">None</span>, <span style=\"color: #00af00; text-decoration-color: #00af00\">150</span>)            │        <span style=\"color: #00af00; text-decoration-color: #00af00\">31,650</span> │\n",
       "├─────────────────────────────────┼────────────────────────┼───────────────┤\n",
       "│ dropout (<span style=\"color: #0087ff; text-decoration-color: #0087ff\">Dropout</span>)               │ (<span style=\"color: #00d7ff; text-decoration-color: #00d7ff\">None</span>, <span style=\"color: #00af00; text-decoration-color: #00af00\">150</span>)            │             <span style=\"color: #00af00; text-decoration-color: #00af00\">0</span> │\n",
       "├─────────────────────────────────┼────────────────────────┼───────────────┤\n",
       "│ dense_2 (<span style=\"color: #0087ff; text-decoration-color: #0087ff\">Dense</span>)                 │ (<span style=\"color: #00d7ff; text-decoration-color: #00d7ff\">None</span>, <span style=\"color: #00af00; text-decoration-color: #00af00\">90</span>)             │        <span style=\"color: #00af00; text-decoration-color: #00af00\">13,590</span> │\n",
       "├─────────────────────────────────┼────────────────────────┼───────────────┤\n",
       "│ dropout_1 (<span style=\"color: #0087ff; text-decoration-color: #0087ff\">Dropout</span>)             │ (<span style=\"color: #00d7ff; text-decoration-color: #00d7ff\">None</span>, <span style=\"color: #00af00; text-decoration-color: #00af00\">90</span>)             │             <span style=\"color: #00af00; text-decoration-color: #00af00\">0</span> │\n",
       "├─────────────────────────────────┼────────────────────────┼───────────────┤\n",
       "│ dense_3 (<span style=\"color: #0087ff; text-decoration-color: #0087ff\">Dense</span>)                 │ (<span style=\"color: #00d7ff; text-decoration-color: #00d7ff\">None</span>, <span style=\"color: #00af00; text-decoration-color: #00af00\">4</span>)              │           <span style=\"color: #00af00; text-decoration-color: #00af00\">364</span> │\n",
       "└─────────────────────────────────┴────────────────────────┴───────────────┘\n",
       "</pre>\n"
      ],
      "text/plain": [
       "┏━━━━━━━━━━━━━━━━━━━━━━━━━━━━━━━━━┳━━━━━━━━━━━━━━━━━━━━━━━━┳━━━━━━━━━━━━━━━┓\n",
       "┃\u001b[1m \u001b[0m\u001b[1mLayer (type)                   \u001b[0m\u001b[1m \u001b[0m┃\u001b[1m \u001b[0m\u001b[1mOutput Shape          \u001b[0m\u001b[1m \u001b[0m┃\u001b[1m \u001b[0m\u001b[1m      Param #\u001b[0m\u001b[1m \u001b[0m┃\n",
       "┡━━━━━━━━━━━━━━━━━━━━━━━━━━━━━━━━━╇━━━━━━━━━━━━━━━━━━━━━━━━╇━━━━━━━━━━━━━━━┩\n",
       "│ dense (\u001b[38;5;33mDense\u001b[0m)                   │ (\u001b[38;5;45mNone\u001b[0m, \u001b[38;5;34m210\u001b[0m)            │        \u001b[38;5;34m11,130\u001b[0m │\n",
       "├─────────────────────────────────┼────────────────────────┼───────────────┤\n",
       "│ dense_1 (\u001b[38;5;33mDense\u001b[0m)                 │ (\u001b[38;5;45mNone\u001b[0m, \u001b[38;5;34m150\u001b[0m)            │        \u001b[38;5;34m31,650\u001b[0m │\n",
       "├─────────────────────────────────┼────────────────────────┼───────────────┤\n",
       "│ dropout (\u001b[38;5;33mDropout\u001b[0m)               │ (\u001b[38;5;45mNone\u001b[0m, \u001b[38;5;34m150\u001b[0m)            │             \u001b[38;5;34m0\u001b[0m │\n",
       "├─────────────────────────────────┼────────────────────────┼───────────────┤\n",
       "│ dense_2 (\u001b[38;5;33mDense\u001b[0m)                 │ (\u001b[38;5;45mNone\u001b[0m, \u001b[38;5;34m90\u001b[0m)             │        \u001b[38;5;34m13,590\u001b[0m │\n",
       "├─────────────────────────────────┼────────────────────────┼───────────────┤\n",
       "│ dropout_1 (\u001b[38;5;33mDropout\u001b[0m)             │ (\u001b[38;5;45mNone\u001b[0m, \u001b[38;5;34m90\u001b[0m)             │             \u001b[38;5;34m0\u001b[0m │\n",
       "├─────────────────────────────────┼────────────────────────┼───────────────┤\n",
       "│ dense_3 (\u001b[38;5;33mDense\u001b[0m)                 │ (\u001b[38;5;45mNone\u001b[0m, \u001b[38;5;34m4\u001b[0m)              │           \u001b[38;5;34m364\u001b[0m │\n",
       "└─────────────────────────────────┴────────────────────────┴───────────────┘\n"
      ]
     },
     "metadata": {},
     "output_type": "display_data"
    },
    {
     "data": {
      "text/html": [
       "<pre style=\"white-space:pre;overflow-x:auto;line-height:normal;font-family:Menlo,'DejaVu Sans Mono',consolas,'Courier New',monospace\"><span style=\"font-weight: bold\"> Total params: </span><span style=\"color: #00af00; text-decoration-color: #00af00\">56,734</span> (221.62 KB)\n",
       "</pre>\n"
      ],
      "text/plain": [
       "\u001b[1m Total params: \u001b[0m\u001b[38;5;34m56,734\u001b[0m (221.62 KB)\n"
      ]
     },
     "metadata": {},
     "output_type": "display_data"
    },
    {
     "data": {
      "text/html": [
       "<pre style=\"white-space:pre;overflow-x:auto;line-height:normal;font-family:Menlo,'DejaVu Sans Mono',consolas,'Courier New',monospace\"><span style=\"font-weight: bold\"> Trainable params: </span><span style=\"color: #00af00; text-decoration-color: #00af00\">56,734</span> (221.62 KB)\n",
       "</pre>\n"
      ],
      "text/plain": [
       "\u001b[1m Trainable params: \u001b[0m\u001b[38;5;34m56,734\u001b[0m (221.62 KB)\n"
      ]
     },
     "metadata": {},
     "output_type": "display_data"
    },
    {
     "data": {
      "text/html": [
       "<pre style=\"white-space:pre;overflow-x:auto;line-height:normal;font-family:Menlo,'DejaVu Sans Mono',consolas,'Courier New',monospace\"><span style=\"font-weight: bold\"> Non-trainable params: </span><span style=\"color: #00af00; text-decoration-color: #00af00\">0</span> (0.00 B)\n",
       "</pre>\n"
      ],
      "text/plain": [
       "\u001b[1m Non-trainable params: \u001b[0m\u001b[38;5;34m0\u001b[0m (0.00 B)\n"
      ]
     },
     "metadata": {},
     "output_type": "display_data"
    }
   ],
   "source": [
    "fnn_model = tf.keras.Sequential([\n",
    "    tf.keras.Input(shape=(52,)),  # 52 input features\n",
    "    tf.keras.layers.Dense(210, activation='tanh', kernel_initializer='he_normal'),  \n",
    "    tf.keras.layers.Dense(150, activation='tanh', kernel_initializer='he_normal'),\n",
    "    tf.keras.layers.Dropout(0.4),  # dropout to avoid overfitting\n",
    "    tf.keras.layers.Dense(90, activation='tanh', kernel_initializer='he_normal'),\n",
    "    tf.keras.layers.Dropout(0.4),  # dropout\n",
    "    tf.keras.layers.Dense(4, activation='softmax')  # output layer for multiclass classification\n",
    "])\n",
    "\n",
    "# Compile the model\n",
    "fnn_model.compile(\n",
    "    optimizer=Adam(learning_rate=1e-3),\n",
    "    loss='sparse_categorical_crossentropy',\n",
    "    metrics=[tf.keras.metrics.SparseCategoricalAccuracy(name='acc')]\n",
    ")\n",
    "\n",
    "\n",
    "# Summary\n",
    "fnn_model.summary()"
   ]
  },
  {
   "cell_type": "code",
   "execution_count": 13,
   "id": "79230500",
   "metadata": {},
   "outputs": [],
   "source": [
    "callbacks = [\n",
    "    EarlyStopping(monitor='val_loss', patience=15, mode='min',\n",
    "                  restore_best_weights=True, verbose=1)\n",
    "]"
   ]
  },
  {
   "cell_type": "code",
   "execution_count": 16,
   "id": "8e7ab7a6",
   "metadata": {},
   "outputs": [
    {
     "name": "stdout",
     "output_type": "stream",
     "text": [
      "Epoch 1/5\n",
      "\u001b[1m367/367\u001b[0m \u001b[32m━━━━━━━━━━━━━━━━━━━━\u001b[0m\u001b[37m\u001b[0m \u001b[1m0s\u001b[0m 1ms/step - acc: 0.8019 - loss: 0.4187 - val_acc: 0.8011 - val_loss: 0.4164\n",
      "Epoch 2/5\n",
      "\u001b[1m367/367\u001b[0m \u001b[32m━━━━━━━━━━━━━━━━━━━━\u001b[0m\u001b[37m\u001b[0m \u001b[1m0s\u001b[0m 1ms/step - acc: 0.7962 - loss: 0.4218 - val_acc: 0.7993 - val_loss: 0.4156\n",
      "Epoch 3/5\n",
      "\u001b[1m367/367\u001b[0m \u001b[32m━━━━━━━━━━━━━━━━━━━━\u001b[0m\u001b[37m\u001b[0m \u001b[1m0s\u001b[0m 1ms/step - acc: 0.8006 - loss: 0.4221 - val_acc: 0.8065 - val_loss: 0.4112\n",
      "Epoch 4/5\n",
      "\u001b[1m367/367\u001b[0m \u001b[32m━━━━━━━━━━━━━━━━━━━━\u001b[0m\u001b[37m\u001b[0m \u001b[1m0s\u001b[0m 1ms/step - acc: 0.8021 - loss: 0.4178 - val_acc: 0.8073 - val_loss: 0.4110\n",
      "Epoch 5/5\n",
      "\u001b[1m367/367\u001b[0m \u001b[32m━━━━━━━━━━━━━━━━━━━━\u001b[0m\u001b[37m\u001b[0m \u001b[1m0s\u001b[0m 1ms/step - acc: 0.8088 - loss: 0.4144 - val_acc: 0.8029 - val_loss: 0.4125\n",
      "Restoring model weights from the end of the best epoch: 4.\n",
      "\n",
      "Training time: 2.247 seconds\n"
     ]
    }
   ],
   "source": [
    "start = time.time()\n",
    "history = fnn_model.fit(\n",
    "    X_train, y_train,\n",
    "    validation_data=(X_test, y_test),\n",
    "    epochs=5,\n",
    "    batch_size=128,\n",
    "    callbacks=callbacks,\n",
    "    verbose=1\n",
    ")\n",
    "end = time.time()\n",
    "\n",
    "print(f\"\\nTraining time: {end - start:.3f} seconds\")"
   ]
  },
  {
   "cell_type": "code",
   "execution_count": 17,
   "id": "d334404f",
   "metadata": {},
   "outputs": [
    {
     "name": "stdout",
     "output_type": "stream",
     "text": [
      "[FNN-MC] Test loss: 0.4110 | Test accuracy: 0.8073\n"
     ]
    }
   ],
   "source": [
    "# Evaluate model\n",
    "test_loss, test_acc = fnn_model.evaluate(X_test, y_test, verbose=0)\n",
    "print(f\"[FNN-MC] Test loss: {test_loss:.4f} | Test accuracy: {test_acc:.4f}\")\n",
    "\n",
    "# Predict probabilities & labels\n",
    "y_prob = fnn_model.predict(X_test, verbose=0)   # shape: (N, 4)\n",
    "y_pred = np.argmax(y_prob, axis=1)          # predicted classes\n",
    "# shape: (N,)"
   ]
  },
  {
   "cell_type": "code",
   "execution_count": 18,
   "id": "14b2e7bb",
   "metadata": {},
   "outputs": [
    {
     "name": "stdout",
     "output_type": "stream",
     "text": [
      "\n",
      "Classification Report:\n",
      "              precision    recall  f1-score   support\n",
      "\n",
      "      benign     1.0000    0.9998    0.9999      5860\n",
      "  ransomware     0.5540    0.5603    0.5571      1958\n",
      "     spyware     0.6375    0.6951    0.6651      2004\n",
      "trojan horse     0.6557    0.5859    0.6188      1898\n",
      "\n",
      "    accuracy                         0.8073     11720\n",
      "   macro avg     0.7118    0.7103    0.7102     11720\n",
      "weighted avg     0.8078    0.8073    0.8070     11720\n",
      "\n"
     ]
    }
   ],
   "source": [
    "from sklearn.metrics import classification_report\n",
    "\n",
    "class_names = [\"benign\", \"ransomware\", \"spyware\", \"trojan horse\"]\n",
    "\n",
    "print(\"\\nClassification Report:\")\n",
    "print(classification_report(y_test, y_pred, target_names=class_names, digits=4))"
   ]
  },
  {
   "cell_type": "code",
   "execution_count": 19,
   "id": "7a060794",
   "metadata": {},
   "outputs": [
    {
     "data": {
      "image/png": "[encoded data removed]",
      "text/plain": [
       "<Figure size 620x540 with 2 Axes>"
      ]
     },
     "metadata": {},
     "output_type": "display_data"
    },
    {
     "data": {
      "image/png": "[encoded data removed]",
      "text/plain": [
       "<Figure size 620x540 with 2 Axes>"
      ]
     },
     "metadata": {},
     "output_type": "display_data"
    }
   ],
   "source": [
    "import seaborn as sns\n",
    "import matplotlib.pyplot as plt\n",
    "from sklearn.metrics import confusion_matrix\n",
    "\n",
    "cm = confusion_matrix(y_test, y_pred, labels=[0,1,2,3])\n",
    "cm_norm = cm.astype(\"float\") / cm.sum(axis=1, keepdims=True)\n",
    "\n",
    "plt.figure(figsize=(6.2, 5.4))\n",
    "sns.heatmap(cm, annot=True, fmt=\"d\", cmap=\"Blues\",\n",
    "            xticklabels=class_names, yticklabels=class_names)\n",
    "plt.title(\"Confusion Matrix (Counts) – FNN-MC\")\n",
    "plt.xlabel(\"Predicted\")\n",
    "plt.ylabel(\"True\")\n",
    "plt.tight_layout()\n",
    "plt.show()\n",
    "\n",
    "plt.figure(figsize=(6.2, 5.4))\n",
    "sns.heatmap(cm_norm, annot=True, fmt=\".2f\", cmap=\"Greens\",\n",
    "            xticklabels=class_names, yticklabels=class_names, vmin=0, vmax=1)\n",
    "plt.title(\"Confusion Matrix (Normalized) – FNN-MC\")\n",
    "plt.xlabel(\"Predicted\")\n",
    "plt.ylabel(\"True\")\n",
    "plt.tight_layout()\n",
    "plt.show()"
   ]
  },
  {
   "cell_type": "code",
   "execution_count": 20,
   "id": "92fb9d0d",
   "metadata": {},
   "outputs": [],
   "source": [
    "X_train_lstm = np.expand_dims(X_train.astype(np.float32), axis=1)  # (N, 1, 52)\n",
    "X_test_lstm  = np.expand_dims(X_test.astype(np.float32),  axis=1)  # (N, 1, 52)"
   ]
  },
  {
   "cell_type": "code",
   "execution_count": 53,
   "id": "ab4fb44c",
   "metadata": {},
   "outputs": [
    {
     "data": {
      "text/html": [
       "<pre style=\"white-space:pre;overflow-x:auto;line-height:normal;font-family:Menlo,'DejaVu Sans Mono',consolas,'Courier New',monospace\"><span style=\"font-weight: bold\">Model: \"LSTM_MC\"</span>\n",
       "</pre>\n"
      ],
      "text/plain": [
       "\u001b[1mModel: \"LSTM_MC\"\u001b[0m\n"
      ]
     },
     "metadata": {},
     "output_type": "display_data"
    },
    {
     "data": {
      "text/html": [
       "<pre style=\"white-space:pre;overflow-x:auto;line-height:normal;font-family:Menlo,'DejaVu Sans Mono',consolas,'Courier New',monospace\">┏━━━━━━━━━━━━━━━━━━━━━━━━━━━━━━━━━┳━━━━━━━━━━━━━━━━━━━━━━━━┳━━━━━━━━━━━━━━━┓\n",
       "┃<span style=\"font-weight: bold\"> Layer (type)                    </span>┃<span style=\"font-weight: bold\"> Output Shape           </span>┃<span style=\"font-weight: bold\">       Param # </span>┃\n",
       "┡━━━━━━━━━━━━━━━━━━━━━━━━━━━━━━━━━╇━━━━━━━━━━━━━━━━━━━━━━━━╇━━━━━━━━━━━━━━━┩\n",
       "│ lstm_6 (<span style=\"color: #0087ff; text-decoration-color: #0087ff\">LSTM</span>)                   │ (<span style=\"color: #00d7ff; text-decoration-color: #00d7ff\">None</span>, <span style=\"color: #00af00; text-decoration-color: #00af00\">1</span>, <span style=\"color: #00af00; text-decoration-color: #00af00\">200</span>)         │       <span style=\"color: #00af00; text-decoration-color: #00af00\">202,400</span> │\n",
       "├─────────────────────────────────┼────────────────────────┼───────────────┤\n",
       "│ dropout_8 (<span style=\"color: #0087ff; text-decoration-color: #0087ff\">Dropout</span>)             │ (<span style=\"color: #00d7ff; text-decoration-color: #00d7ff\">None</span>, <span style=\"color: #00af00; text-decoration-color: #00af00\">1</span>, <span style=\"color: #00af00; text-decoration-color: #00af00\">200</span>)         │             <span style=\"color: #00af00; text-decoration-color: #00af00\">0</span> │\n",
       "├─────────────────────────────────┼────────────────────────┼───────────────┤\n",
       "│ lstm_7 (<span style=\"color: #0087ff; text-decoration-color: #0087ff\">LSTM</span>)                   │ (<span style=\"color: #00d7ff; text-decoration-color: #00d7ff\">None</span>, <span style=\"color: #00af00; text-decoration-color: #00af00\">150</span>)            │       <span style=\"color: #00af00; text-decoration-color: #00af00\">210,600</span> │\n",
       "├─────────────────────────────────┼────────────────────────┼───────────────┤\n",
       "│ dropout_9 (<span style=\"color: #0087ff; text-decoration-color: #0087ff\">Dropout</span>)             │ (<span style=\"color: #00d7ff; text-decoration-color: #00d7ff\">None</span>, <span style=\"color: #00af00; text-decoration-color: #00af00\">150</span>)            │             <span style=\"color: #00af00; text-decoration-color: #00af00\">0</span> │\n",
       "├─────────────────────────────────┼────────────────────────┼───────────────┤\n",
       "│ dense_7 (<span style=\"color: #0087ff; text-decoration-color: #0087ff\">Dense</span>)                 │ (<span style=\"color: #00d7ff; text-decoration-color: #00d7ff\">None</span>, <span style=\"color: #00af00; text-decoration-color: #00af00\">4</span>)              │           <span style=\"color: #00af00; text-decoration-color: #00af00\">604</span> │\n",
       "└─────────────────────────────────┴────────────────────────┴───────────────┘\n",
       "</pre>\n"
      ],
      "text/plain": [
       "┏━━━━━━━━━━━━━━━━━━━━━━━━━━━━━━━━━┳━━━━━━━━━━━━━━━━━━━━━━━━┳━━━━━━━━━━━━━━━┓\n",
       "┃\u001b[1m \u001b[0m\u001b[1mLayer (type)                   \u001b[0m\u001b[1m \u001b[0m┃\u001b[1m \u001b[0m\u001b[1mOutput Shape          \u001b[0m\u001b[1m \u001b[0m┃\u001b[1m \u001b[0m\u001b[1m      Param #\u001b[0m\u001b[1m \u001b[0m┃\n",
       "┡━━━━━━━━━━━━━━━━━━━━━━━━━━━━━━━━━╇━━━━━━━━━━━━━━━━━━━━━━━━╇━━━━━━━━━━━━━━━┩\n",
       "│ lstm_6 (\u001b[38;5;33mLSTM\u001b[0m)                   │ (\u001b[38;5;45mNone\u001b[0m, \u001b[38;5;34m1\u001b[0m, \u001b[38;5;34m200\u001b[0m)         │       \u001b[38;5;34m202,400\u001b[0m │\n",
       "├─────────────────────────────────┼────────────────────────┼───────────────┤\n",
       "│ dropout_8 (\u001b[38;5;33mDropout\u001b[0m)             │ (\u001b[38;5;45mNone\u001b[0m, \u001b[38;5;34m1\u001b[0m, \u001b[38;5;34m200\u001b[0m)         │             \u001b[38;5;34m0\u001b[0m │\n",
       "├─────────────────────────────────┼────────────────────────┼───────────────┤\n",
       "│ lstm_7 (\u001b[38;5;33mLSTM\u001b[0m)                   │ (\u001b[38;5;45mNone\u001b[0m, \u001b[38;5;34m150\u001b[0m)            │       \u001b[38;5;34m210,600\u001b[0m │\n",
       "├─────────────────────────────────┼────────────────────────┼───────────────┤\n",
       "│ dropout_9 (\u001b[38;5;33mDropout\u001b[0m)             │ (\u001b[38;5;45mNone\u001b[0m, \u001b[38;5;34m150\u001b[0m)            │             \u001b[38;5;34m0\u001b[0m │\n",
       "├─────────────────────────────────┼────────────────────────┼───────────────┤\n",
       "│ dense_7 (\u001b[38;5;33mDense\u001b[0m)                 │ (\u001b[38;5;45mNone\u001b[0m, \u001b[38;5;34m4\u001b[0m)              │           \u001b[38;5;34m604\u001b[0m │\n",
       "└─────────────────────────────────┴────────────────────────┴───────────────┘\n"
      ]
     },
     "metadata": {},
     "output_type": "display_data"
    },
    {
     "data": {
      "text/html": [
       "<pre style=\"white-space:pre;overflow-x:auto;line-height:normal;font-family:Menlo,'DejaVu Sans Mono',consolas,'Courier New',monospace\"><span style=\"font-weight: bold\"> Total params: </span><span style=\"color: #00af00; text-decoration-color: #00af00\">413,604</span> (1.58 MB)\n",
       "</pre>\n"
      ],
      "text/plain": [
       "\u001b[1m Total params: \u001b[0m\u001b[38;5;34m413,604\u001b[0m (1.58 MB)\n"
      ]
     },
     "metadata": {},
     "output_type": "display_data"
    },
    {
     "data": {
      "text/html": [
       "<pre style=\"white-space:pre;overflow-x:auto;line-height:normal;font-family:Menlo,'DejaVu Sans Mono',consolas,'Courier New',monospace\"><span style=\"font-weight: bold\"> Trainable params: </span><span style=\"color: #00af00; text-decoration-color: #00af00\">413,604</span> (1.58 MB)\n",
       "</pre>\n"
      ],
      "text/plain": [
       "\u001b[1m Trainable params: \u001b[0m\u001b[38;5;34m413,604\u001b[0m (1.58 MB)\n"
      ]
     },
     "metadata": {},
     "output_type": "display_data"
    },
    {
     "data": {
      "text/html": [
       "<pre style=\"white-space:pre;overflow-x:auto;line-height:normal;font-family:Menlo,'DejaVu Sans Mono',consolas,'Courier New',monospace\"><span style=\"font-weight: bold\"> Non-trainable params: </span><span style=\"color: #00af00; text-decoration-color: #00af00\">0</span> (0.00 B)\n",
       "</pre>\n"
      ],
      "text/plain": [
       "\u001b[1m Non-trainable params: \u001b[0m\u001b[38;5;34m0\u001b[0m (0.00 B)\n"
      ]
     },
     "metadata": {},
     "output_type": "display_data"
    }
   ],
   "source": [
    "num_classes = 4\n",
    "lstm_model = Sequential([\n",
    "    # timesteps=1, features=52\n",
    "    tf.keras.Input(shape=(1, 52)),\n",
    "\n",
    "    # LSTM layer 1 (use tanh for activation; recurrent_activation stays sigmoid by default)\n",
    "    layers.LSTM(200, activation='tanh', return_sequences=True),\n",
    "    layers.Dropout(0.5),\n",
    "\n",
    "    # LSTM layer 2\n",
    "    layers.LSTM(150, activation='tanh'),\n",
    "    layers.Dropout(0.5),\n",
    "\n",
    "    # Output for 4 classes\n",
    "    layers.Dense(num_classes, activation='softmax')\n",
    "], name=\"LSTM_MC\")\n",
    "\n",
    "lstm_model.compile(\n",
    "    optimizer=Adam(learning_rate=1e-3),\n",
    "    loss='sparse_categorical_crossentropy',            # sparse labels (0..3)\n",
    "    metrics=[tf.keras.metrics.SparseCategoricalAccuracy(name='acc')]\n",
    ")\n",
    "\n",
    "lstm_model.summary()"
   ]
  },
  {
   "cell_type": "code",
   "execution_count": 54,
   "id": "1a547fd6",
   "metadata": {},
   "outputs": [
    {
     "name": "stdout",
     "output_type": "stream",
     "text": [
      "Epoch 1/5\n",
      "\u001b[1m367/367\u001b[0m \u001b[32m━━━━━━━━━━━━━━━━━━━━\u001b[0m\u001b[37m\u001b[0m \u001b[1m2s\u001b[0m 4ms/step - acc: 0.6711 - loss: 0.6912 - val_acc: 0.7221 - val_loss: 0.5230\n",
      "Epoch 2/5\n",
      "\u001b[1m367/367\u001b[0m \u001b[32m━━━━━━━━━━━━━━━━━━━━\u001b[0m\u001b[37m\u001b[0m \u001b[1m2s\u001b[0m 5ms/step - acc: 0.7154 - loss: 0.5226 - val_acc: 0.7367 - val_loss: 0.5016\n",
      "Epoch 3/5\n",
      "\u001b[1m367/367\u001b[0m \u001b[32m━━━━━━━━━━━━━━━━━━━━\u001b[0m\u001b[37m\u001b[0m \u001b[1m2s\u001b[0m 5ms/step - acc: 0.7319 - loss: 0.5043 - val_acc: 0.7433 - val_loss: 0.4919\n",
      "Epoch 4/5\n",
      "\u001b[1m367/367\u001b[0m \u001b[32m━━━━━━━━━━━━━━━━━━━━\u001b[0m\u001b[37m\u001b[0m \u001b[1m2s\u001b[0m 5ms/step - acc: 0.7436 - loss: 0.4902 - val_acc: 0.7547 - val_loss: 0.4803\n",
      "Epoch 5/5\n",
      "\u001b[1m367/367\u001b[0m \u001b[32m━━━━━━━━━━━━━━━━━━━━\u001b[0m\u001b[37m\u001b[0m \u001b[1m2s\u001b[0m 4ms/step - acc: 0.7521 - loss: 0.4839 - val_acc: 0.7582 - val_loss: 0.4745\n",
      "Restoring model weights from the end of the best epoch: 5.\n",
      "\n",
      "[LSTM-MC] Training time: 9.229 seconds\n"
     ]
    }
   ],
   "source": [
    "start = time.time()\n",
    "history = lstm_model.fit(\n",
    "    X_train_lstm, y_train,\n",
    "    validation_data=(X_test_lstm, y_test),\n",
    "    epochs=5,\n",
    "    batch_size=128,\n",
    "    callbacks=callbacks,\n",
    "    verbose=1\n",
    ")\n",
    "end = time.time()\n",
    "print(f\"\\n[LSTM-MC] Training time: {end - start:.3f} seconds\")"
   ]
  },
  {
   "cell_type": "code",
   "execution_count": 56,
   "id": "a0ab3a62",
   "metadata": {},
   "outputs": [
    {
     "name": "stdout",
     "output_type": "stream",
     "text": [
      "\u001b[1m367/367\u001b[0m \u001b[32m━━━━━━━━━━━━━━━━━━━━\u001b[0m\u001b[37m\u001b[0m \u001b[1m0s\u001b[0m 698us/step\n"
     ]
    }
   ],
   "source": [
    "y_pred_lstm = lstm_model.predict(X_test_lstm)   # your trained LSTM model\n",
    "y_pred_lstm = y_pred_lstm.argmax(axis=1)\n",
    "\n",
    "# Convert y_test if one-hot encoded\n",
    "if y_test.ndim > 1:\n",
    "    y_test_labels = y_test.argmax(axis=1)\n",
    "else:\n",
    "    y_test_labels = y_test"
   ]
  },
  {
   "cell_type": "code",
   "execution_count": 57,
   "id": "3f4af9ac",
   "metadata": {},
   "outputs": [
    {
     "name": "stdout",
     "output_type": "stream",
     "text": [
      "\n",
      "Classification Report (LSTM-MC):\n",
      "              precision    recall  f1-score   support\n",
      "\n",
      "      benign     0.9998    0.9993    0.9996      5860\n",
      "  ransomware     0.5008    0.4704    0.4851      1958\n",
      "     spyware     0.6520    0.3777    0.4784      2004\n",
      "trojan horse     0.4722    0.7123    0.5679      1898\n",
      "\n",
      "    accuracy                         0.7582     11720\n",
      "   macro avg     0.6562    0.6399    0.6327     11720\n",
      "weighted avg     0.7715    0.7582    0.7546     11720\n",
      "\n"
     ]
    }
   ],
   "source": [
    "from sklearn.metrics import classification_report\n",
    "\n",
    "class_names = [\"benign\", \"ransomware\", \"spyware\", \"trojan horse\"]\n",
    "\n",
    "print(\"\\nClassification Report (LSTM-MC):\")\n",
    "print(classification_report(y_test, y_pred_lstm, target_names=class_names, digits=4))\n"
   ]
  },
  {
   "cell_type": "code",
   "execution_count": 58,
   "id": "ce6689aa",
   "metadata": {},
   "outputs": [
    {
     "data": {
      "image/png": "[encoded data removed]",
      "text/plain": [
       "<Figure size 800x600 with 2 Axes>"
      ]
     },
     "metadata": {},
     "output_type": "display_data"
    }
   ],
   "source": [
    "cm = confusion_matrix(y_test, y_pred_lstm)\n",
    "\n",
    "plt.figure(figsize=(8,6))\n",
    "sns.heatmap(cm, annot=True, fmt=\"d\", cmap=\"Blues\", xticklabels=class_names, yticklabels=class_names)\n",
    "plt.xlabel(\"Predicted\")\n",
    "plt.ylabel(\"Actual\")\n",
    "plt.title(\"Confusion Matrix (LSTM-MC)\")\n",
    "plt.show()\n"
   ]
  },
  {
   "cell_type": "markdown",
   "id": "85c48fa4",
   "metadata": {},
   "source": [
    "# Federated Learning"
   ]
  },
  {
   "cell_type": "code",
   "execution_count": 37,
   "id": "a44d85e2",
   "metadata": {},
   "outputs": [],
   "source": [
    "import numpy as np\n",
    "import tensorflow as tf\n",
    "from typing import Dict, Optional, Tuple\n",
    "from copy import deepcopy\n",
    "\n",
    "# ---------- helper: fixed client assignment from test set ----------\n",
    "def assign_fixed_clients_from_test(\n",
    "    X: np.ndarray,\n",
    "    y: np.ndarray,\n",
    "    num_clients: int,\n",
    "    base_total: int,\n",
    "    base_clients: int,\n",
    "    seed: int = 0,\n",
    "    wrap: bool = True,\n",
    ") -> Dict[str, Dict[str, np.ndarray]]:\n",
    "    \"\"\"\n",
    "    Create a fixed client assignment with equal per-client size = base_total // base_clients.\n",
    "    If wrap=True and dataset is shorter than base_total, indices repeat cyclically to fill.\n",
    "    \"\"\"\n",
    "    X = np.asarray(X)\n",
    "    y = np.asarray(y)\n",
    "    assert len(X) == len(y), \"X and y must have the same length.\"\n",
    "    assert y.ndim == 1, \"For sparse multiclass, y must be 1-D with integer class ids.\"\n",
    "    assert base_clients > 0 and base_total > 0, \"base_total/base_clients must be > 0.\"\n",
    "    assert base_total % base_clients == 0, \"base_total must be divisible by base_clients.\"\n",
    "    assert num_clients == base_clients, \"num_clients must equal base_clients for fixed sizing.\"\n",
    "\n",
    "    per_user = base_total // base_clients\n",
    "    n = len(X)\n",
    "\n",
    "    rng = np.random.default_rng(seed)\n",
    "    base_order = rng.permutation(n)\n",
    "\n",
    "    if base_total <= n:\n",
    "        idx = base_order[:base_total]\n",
    "    else:\n",
    "        if not wrap:\n",
    "            raise ValueError(\n",
    "                f\"Need {base_total} samples but dataset has only {n}. \"\n",
    "                \"Set wrap=True to repeat indices.\"\n",
    "            )\n",
    "        times = base_total // n\n",
    "        rem = base_total % n\n",
    "        idx = np.concatenate([np.tile(base_order, times), base_order[:rem]])\n",
    "\n",
    "    assignment = {}\n",
    "    start = 0\n",
    "    for c in range(num_clients):\n",
    "        end = start + per_user\n",
    "        take = idx[start:end]\n",
    "        assignment[f\"client_{c+1}\"] = {\"X\": X[take], \"y\": y[take]}\n",
    "        start = end\n",
    "\n",
    "    return assignment\n",
    "\n",
    "# ---------- helper: model clone (no metrics on clients) ----------\n",
    "def _clone_model_with_weights(model: tf.keras.Model) -> tf.keras.Model:\n",
    "    clone = tf.keras.models.clone_model(model)\n",
    "    clone.set_weights(model.get_weights())\n",
    "    if not hasattr(model, \"optimizer\") or model.optimizer is None:\n",
    "        raise ValueError(\"Global model must be compiled before FL.\")\n",
    "    opt = tf.keras.optimizers.deserialize(tf.keras.optimizers.serialize(model.optimizer))\n",
    "    # No metrics on local clients to avoid Mean/Sum signature issues\n",
    "    clone.compile(optimizer=opt, loss=model.loss, metrics=[])\n",
    "    return clone\n",
    "\n",
    "def _count_trainable_params(model: tf.keras.Model) -> int:\n",
    "    return int(np.sum([np.prod(w.shape) for w in model.trainable_weights]))\n",
    "\n",
    "def _layer_value_preview(model: tf.keras.Model, values_per_layer: int = 5):\n",
    "    prev = {}\n",
    "    for w in model.trainable_weights:\n",
    "        arr = w.numpy().ravel()\n",
    "        prev[w.name] = arr[:min(values_per_layer, arr.size)].tolist()\n",
    "    return prev\n",
    "\n",
    "def _weighted_fedavg(weights_list, sizes):\n",
    "    total = float(np.sum(sizes))\n",
    "    agg = [np.zeros_like(w) for w in weights_list[0]]\n",
    "    for client_w, n in zip(weights_list, sizes):\n",
    "        coef = (n / total) if total > 0 else 0.0\n",
    "        for i, w in enumerate(client_w):\n",
    "            agg[i] = agg[i] + coef * w\n",
    "    return agg\n"
   ]
  },
  {
   "cell_type": "code",
   "execution_count": 50,
   "id": "efee52d9",
   "metadata": {},
   "outputs": [],
   "source": [
    "\n",
    "def run_federated_round(\n",
    "    global_model: tf.keras.Model,\n",
    "    X: np.ndarray,\n",
    "    y: np.ndarray,\n",
    "    model_kind: str,       # \"fnn\" or \"lstm\"\n",
    "    users: int = 5,\n",
    "    batch_size: int = 128,\n",
    "    local_epochs: int = 1,\n",
    "    rounds: int = 1,\n",
    "    verbose: int = 1,\n",
    "    log_params: bool = True,\n",
    "    show_parameter_numbers: bool = True,\n",
    "    values_per_layer: int = 5,\n",
    "    eval_data: Optional[Tuple[np.ndarray, np.ndarray]] = None,\n",
    "    client_assignment: Optional[Dict[str, Dict[str, np.ndarray]]] = None,\n",
    "):\n",
    "    \"\"\"\n",
    "    FedAvg with optional fixed client_assignment.\n",
    "    Works for multiclass with sparse labels (int y) and 'sparse_categorical_crossentropy'.\n",
    "    Expands inputs for LSTM: (N, T) -> (N, T, 1) if needed.\n",
    "    \"\"\"\n",
    "    def _np(x): return x if isinstance(x, np.ndarray) else np.asarray(x)\n",
    "\n",
    "    def _maybe_expand_for_lstm(x: np.ndarray) -> np.ndarray:\n",
    "        # If model_kind is LSTM, ensure 3-D: (N, T, F). If 2-D, add feature dim.\n",
    "        if model_kind.lower() == \"lstm\":\n",
    "            x = np.asarray(x)\n",
    "            if x.ndim == 2:\n",
    "                return x[..., np.newaxis]          # (N, T, 1)\n",
    "            elif x.ndim == 3:\n",
    "                return x\n",
    "            else:\n",
    "                raise ValueError(f\"Expected 2-D or 3-D input for LSTM, got shape {x.shape}\")\n",
    "        else:\n",
    "            return np.asarray(x)                    # FNN path expects 2-D\n",
    "    # ---------------- Prepare clients ----------------\n",
    "    if client_assignment is None:\n",
    "        # even split fallback\n",
    "        n = len(X)\n",
    "        idx = np.arange(n); np.random.shuffle(idx)\n",
    "        parts = np.array_split(idx, users)\n",
    "        clients = {f\"client_{i+1}\": {\n",
    "                        \"X\": _maybe_expand_for_lstm(_np(X)[p]),\n",
    "                        \"y\": _np(y)[p].astype(np.int64)}\n",
    "                   for i, p in enumerate(parts)}\n",
    "    else:\n",
    "        clients = {}\n",
    "        for cid, d in client_assignment.items():\n",
    "            Xi = _maybe_expand_for_lstm(_np(d[\"X\"]))\n",
    "            yi = _np(d[\"y\"])\n",
    "            if yi.dtype.kind not in (\"i\", \"u\"):\n",
    "                yi = yi.astype(np.int64)\n",
    "            clients[cid] = {\"X\": Xi, \"y\": yi}\n",
    "\n",
    "    report = {\n",
    "        \"rounds\": rounds,\n",
    "        \"clients\": list(clients.keys()),\n",
    "        \"samples_per_client\": {cid: int(len(d[\"X\"])) for cid, d in clients.items()},\n",
    "        \"per_round\": [],\n",
    "        \"final_eval\": None,\n",
    "        \"model_kind\": model_kind,\n",
    "        \"trainable_params\": None,\n",
    "        \"param_preview\": None,\n",
    "    }\n",
    "\n",
    "    if show_parameter_numbers:\n",
    "        report[\"trainable_params\"] = _count_trainable_params(global_model)\n",
    "    if log_params:\n",
    "        report[\"param_preview\"] = _layer_value_preview(global_model, values_per_layer)\n",
    "\n",
    "    if verbose:\n",
    "        print(f\"[FL] Multiclass FedAvg: {rounds} rounds, {len(clients)} clients\")\n",
    "        print(f\"[FL] Samples/client: {report['samples_per_client']}\")\n",
    "\n",
    "    # ---------------- Rounds ----------------\n",
    "    for r in range(1, rounds + 1):\n",
    "        if verbose:\n",
    "            print(f\"\\n[FL] ----- Round {r}/{rounds} -----\")\n",
    "\n",
    "        global_weights = [w.copy() for w in global_model.get_weights()]\n",
    "        client_weights, client_sizes, local_histories = [], [], {}\n",
    "\n",
    "        for cid, data in clients.items():\n",
    "            Xi, yi = data[\"X\"], data[\"y\"]\n",
    "\n",
    "            local_model = _clone_model_with_weights(global_model)\n",
    "            local_model.set_weights(global_weights)\n",
    "            hist = local_model.fit(\n",
    "                Xi, yi, batch_size=batch_size, epochs=local_epochs, verbose=0, shuffle=True\n",
    "            )\n",
    "            local_histories[cid] = {\"loss\": [float(x) for x in hist.history.get(\"loss\", [])]}\n",
    "            client_weights.append([w.copy() for w in local_model.get_weights()])\n",
    "            client_sizes.append(int(len(Xi)))\n",
    "\n",
    "        # FedAvg\n",
    "        new_global = _weighted_fedavg(client_weights, client_sizes)\n",
    "        global_model.set_weights(new_global)\n",
    "\n",
    "        # Eval with the *global* model\n",
    "        eval_metrics = None\n",
    "        if eval_data is not None:\n",
    "            Xte, yte = eval_data\n",
    "            Xte = _maybe_expand_for_lstm(np.asarray(Xte))\n",
    "            yte = np.asarray(yte)\n",
    "            if yte.dtype.kind not in (\"i\", \"u\"):\n",
    "                yte = yte.astype(np.int64)\n",
    "            eval_vals = global_model.evaluate(Xte, yte, verbose=0)\n",
    "            names = [\"loss\"] + [m.name if hasattr(m, \"name\") else str(m) for m in global_model.metrics]\n",
    "            eval_metrics = {names[i]: float(eval_vals[i]) for i in range(len(eval_vals))}\n",
    "\n",
    "        per_round_entry = {\n",
    "            \"round\": r,\n",
    "            \"local_histories\": local_histories,\n",
    "            \"eval\": eval_metrics,\n",
    "            \"trainable_params\": _count_trainable_params(global_model) if show_parameter_numbers else None,\n",
    "            \"param_preview\": _layer_value_preview(global_model, values_per_layer) if log_params else None,\n",
    "            \"client_sizes\": {c: s for c, s in zip(clients.keys(), client_sizes)},\n",
    "        }\n",
    "        report[\"per_round\"].append(per_round_entry)\n",
    "\n",
    "        if verbose and eval_metrics is not None:\n",
    "            pretty = \", \".join([f\"{k}: {v:.4f}\" for k, v in eval_metrics.items()])\n",
    "            print(f\"[FL] Global eval -> {pretty}\")\n",
    "\n",
    "    if eval_data is not None and report[\"per_round\"]:\n",
    "        report[\"final_eval\"] = deepcopy(report[\"per_round\"][-1][\"eval\"])\n",
    "\n",
    "    return report\n"
   ]
  },
  {
   "cell_type": "code",
   "execution_count": 51,
   "id": "ab55ddb0",
   "metadata": {},
   "outputs": [
    {
     "name": "stdout",
     "output_type": "stream",
     "text": [
      "[FL] Multiclass FedAvg: 5 rounds, 5 clients\n",
      "[FL] Samples/client: {'client_1': 46, 'client_2': 46, 'client_3': 46, 'client_4': 46, 'client_5': 46}\n",
      "\n",
      "[FL] ----- Round 1/5 -----\n",
      "[FL] Global eval -> loss: 0.8049\n",
      "\n",
      "[FL] ----- Round 2/5 -----\n",
      "[FL] Global eval -> loss: 0.8049\n",
      "\n",
      "[FL] ----- Round 3/5 -----\n",
      "[FL] Global eval -> loss: 0.8061\n",
      "\n",
      "[FL] ----- Round 4/5 -----\n",
      "[FL] Global eval -> loss: 0.8049\n",
      "\n",
      "[FL] ----- Round 5/5 -----\n",
      "[FL] Global eval -> loss: 0.8038\n"
     ]
    }
   ],
   "source": [
    "# Assumptions:\n",
    "# - fnn_model is exactly as you compiled:\n",
    "#     loss='sparse_categorical_crossentropy',\n",
    "#     metrics=[tf.keras.metrics.SparseCategoricalAccuracy(name='acc')]\n",
    "# - X_test: shape (N, 52)\n",
    "# - y_test: shape (N,), integer labels in {0,1,2,3}\n",
    "\n",
    "users = 5\n",
    "per_user = 46                             # choose your target size\n",
    "base_total = users * per_user            # e.g., 5888\n",
    "assignment_mc = assign_fixed_clients_from_test(\n",
    "    X_test, y_test,\n",
    "    num_clients=users,\n",
    "    base_total=base_total,\n",
    "    base_clients=users,\n",
    "    seed=7,\n",
    "    wrap=True,                           # repeat samples if N < base_total\n",
    ")\n",
    "\n",
    "report_mc = run_federated_round(\n",
    "    global_model=fnn_model,              # compiled FNN (softmax over 4 classes)\n",
    "    X=X_test, y=y_test,                  # ignored when client_assignment is provided\n",
    "    model_kind=\"fnn\",\n",
    "    users=users,\n",
    "    batch_size=128,\n",
    "    local_epochs=1,\n",
    "    rounds=5,\n",
    "    verbose=1,\n",
    "    log_params=True,\n",
    "    show_parameter_numbers=True,\n",
    "    values_per_layer=5,\n",
    "    eval_data=(X_test, y_test),          # evaluate on the full test set\n",
    "    client_assignment=assignment_mc,     # fixed shards from X_test\n",
    ")\n"
   ]
  },
  {
   "cell_type": "code",
   "execution_count": 41,
   "id": "3f96418c",
   "metadata": {},
   "outputs": [
    {
     "name": "stdout",
     "output_type": "stream",
     "text": [
      "[{'loss': 0.8067406415939331, 'round': 1},\n",
      " {'loss': 0.807081937789917, 'round': 2},\n",
      " {'loss': 0.8061433434486389, 'round': 3},\n",
      " {'loss': 0.805972695350647, 'round': 4},\n",
      " {'loss': 0.8040955662727356, 'round': 5}]\n"
     ]
    }
   ],
   "source": [
    "from pprint import pprint\n",
    "\n",
    "rows = []\n",
    "for r in report_mc[\"per_round\"]:\n",
    "    ev = r.get(\"eval\") or {}\n",
    "    row = {\"round\": r[\"round\"]}\n",
    "    for k in [\"loss\", \"acc\", \"accuracy\", \"auc\", \"precision\", \"recall\"]:\n",
    "        if k in ev: row[k] = float(ev[k])\n",
    "    rows.append(row)\n",
    "\n",
    "pprint(rows)\n"
   ]
  },
  {
   "cell_type": "code",
   "execution_count": 59,
   "id": "1d7e3483",
   "metadata": {},
   "outputs": [
    {
     "data": {
      "text/plain": [
       "(46876, 1, 52)"
      ]
     },
     "execution_count": 59,
     "metadata": {},
     "output_type": "execute_result"
    }
   ],
   "source": [
    "X_train_lstm.shape"
   ]
  },
  {
   "cell_type": "code",
   "execution_count": 64,
   "id": "9a35e159",
   "metadata": {},
   "outputs": [],
   "source": [
    "import numpy as np\n",
    "import tensorflow as tf\n",
    "from copy import deepcopy\n",
    "\n",
    "def _ensure_lstm_shape_any(X, model):\n",
    "    \"\"\"\n",
    "    Ensure rank-3 (N, 1, 52) given model.input_shape == (None, 1, 52).\n",
    "    Works for NumPy arrays or tf.Tensors, even when eager is disabled.\n",
    "    \"\"\"\n",
    "    ish = model.input_shape  # expect (None, 1, 52)\n",
    "    _, T, F = ish\n",
    "    assert (T, F) == (1, 52), f\"Model expects (1,52); got {ish}\"\n",
    "\n",
    "    if isinstance(X, np.ndarray):\n",
    "        if X.ndim == 2:   # (N,52) -> (N,1,52)\n",
    "            return X[:, np.newaxis, :]\n",
    "        elif X.ndim == 3:\n",
    "            return X\n",
    "        else:\n",
    "            raise ValueError(f\"Unexpected X shape {X.shape}\")\n",
    "    else:\n",
    "        # tf.Tensor / Eager off safe path\n",
    "        # X.shape is a tf.TensorShape (works in graph mode)\n",
    "        if len(X.shape) == 2:  # (N,52) -> (N,1,52)\n",
    "            N = tf.shape(X)[0]\n",
    "            return tf.reshape(X, (N, 1, F))\n",
    "        elif len(X.shape) == 3:\n",
    "            return X\n",
    "        else:\n",
    "            raise ValueError(f\"Unexpected X rank {len(X.shape)} for LSTM\")\n",
    "\n",
    "def _to_int_labels(y):\n",
    "    # Works for NumPy or Tensor, no .numpy() calls\n",
    "    if isinstance(y, np.ndarray):\n",
    "        if y.dtype.kind not in (\"i\", \"u\"):\n",
    "            return y.astype(np.int64)\n",
    "        return y\n",
    "    else:\n",
    "        # Tensor path\n",
    "        if y.dtype.is_integer:\n",
    "            return y\n",
    "        return tf.cast(y, tf.int64)\n",
    "\n",
    "def _client_dataset(X, y, batch_size):\n",
    "    ds = tf.data.Dataset.from_tensor_slices((X, y))\n",
    "    ds = ds.shuffle(buffer_size= min(10000, int(tf.shape(y)[0]) if hasattr(y, \"shape\") else len(y)), reshuffle_each_iteration=True)\n",
    "    ds = ds.batch(batch_size).prefetch(tf.data.AUTOTUNE)\n",
    "    return ds\n",
    "\n",
    "def run_fedavg_lstm_simple(\n",
    "    global_model,\n",
    "    X,\n",
    "    y,\n",
    "    client_assignment=None,\n",
    "    users=5,\n",
    "    batch_size=128,\n",
    "    local_epochs=1,\n",
    "    rounds=1,\n",
    "    eval_data=None,\n",
    "    verbose=1,\n",
    "):\n",
    "    \"\"\"\n",
    "    Minimal FedAvg for LSTM input (N,1,52), dataset-based training (graph/eager safe).\n",
    "    Assumes global_model is compiled (e.g., loss='sparse_categorical_crossentropy').\n",
    "    \"\"\"\n",
    "    # ---- Prepare clients ----\n",
    "    def ensure_pair(Xi, yi):\n",
    "        Xi = _ensure_lstm_shape_any(Xi, global_model)\n",
    "        yi = _to_int_labels(yi)\n",
    "        return Xi, yi\n",
    "\n",
    "    if client_assignment is None:\n",
    "        n = len(X) if isinstance(X, np.ndarray) else int(X.shape[0])\n",
    "        idx = np.random.permutation(n)\n",
    "        parts = np.array_split(idx, users)\n",
    "        clients = {}\n",
    "        for i, p in enumerate(parts):\n",
    "            if isinstance(X, np.ndarray):\n",
    "                Xi, yi = X[p], y[p]\n",
    "            else:\n",
    "                Xi, yi = tf.gather(X, p), tf.gather(y, p)\n",
    "            Xi, yi = ensure_pair(Xi, yi)\n",
    "            clients[f\"client_{i+1}\"] = {\"X\": Xi, \"y\": yi}\n",
    "    else:\n",
    "        clients = {}\n",
    "        for cid, d in client_assignment.items():\n",
    "            Xi, yi = ensure_pair(d[\"X\"], d[\"y\"])\n",
    "            clients[cid] = {\"X\": Xi, \"y\": yi}\n",
    "\n",
    "    if verbose:\n",
    "        print(f\"[FedAvg] {users} clients, {rounds} rounds\")\n",
    "\n",
    "    report = {\"per_round\": []}\n",
    "\n",
    "    # ---- Rounds ----\n",
    "    for r in range(1, rounds+1):\n",
    "        if verbose: print(f\"\\n[Round {r}/{rounds}]\")\n",
    "        base_weights = deepcopy(global_model.get_weights())\n",
    "        cw_list, sizes = [], []\n",
    "\n",
    "        for cid, data in clients.items():\n",
    "            Xi, yi = data[\"X\"], data[\"y\"]\n",
    "            ds = _client_dataset(Xi, yi, batch_size)\n",
    "\n",
    "            # local clone\n",
    "            local = tf.keras.models.clone_model(global_model)\n",
    "            local.set_weights(base_weights)\n",
    "            # compile without metrics for speed/signature simplicity\n",
    "            opt = tf.keras.optimizers.deserialize(tf.keras.optimizers.serialize(global_model.optimizer))\n",
    "            local.compile(optimizer=opt, loss=global_model.loss, metrics=[])\n",
    "\n",
    "            local.fit(ds, epochs=local_epochs, verbose=0)\n",
    "            cw_list.append(local.get_weights())\n",
    "            # size = number of samples\n",
    "            size = int(Xi.shape[0]) if isinstance(Xi, np.ndarray) else int(Xi.shape[0])\n",
    "            sizes.append(size)\n",
    "\n",
    "        # FedAvg aggregation\n",
    "        new_weights = []\n",
    "        for i in range(len(base_weights)):\n",
    "            stack = np.stack([cw[i] for cw in cw_list], axis=0)  # all numpy\n",
    "            wavg = np.average(stack, axis=0, weights=sizes)\n",
    "            new_weights.append(wavg)\n",
    "        global_model.set_weights(new_weights)\n",
    "\n",
    "        # Eval (optional)\n",
    "        metrics = None\n",
    "        if eval_data is not None:\n",
    "            Xte, yte = eval_data\n",
    "            Xte = _ensure_lstm_shape_any(Xte, global_model)\n",
    "            yte = _to_int_labels(yte)\n",
    "            ds_eval = tf.data.Dataset.from_tensor_slices((Xte, yte)).batch(batch_size)\n",
    "            eval_vals = global_model.evaluate(ds_eval, verbose=0)\n",
    "            names = [\"loss\"] + [m.name if hasattr(m, \"name\") else str(m) for m in global_model.metrics]\n",
    "            if not isinstance(eval_vals, (list, tuple)):  # single loss\n",
    "                eval_vals = [eval_vals]\n",
    "                names = [\"loss\"]\n",
    "            metrics = {names[i]: float(eval_vals[i]) for i in range(len(eval_vals))}\n",
    "            if verbose:\n",
    "                pretty = \", \".join([f\"{k}={v:.4f}\" for k, v in metrics.items()])\n",
    "                print(f\"  Eval: {pretty}\")\n",
    "\n",
    "        report[\"per_round\"].append({\"round\": r, \"eval\": metrics})\n",
    "\n",
    "    return report\n"
   ]
  },
  {
   "cell_type": "code",
   "execution_count": 65,
   "id": "2aaa1e0f",
   "metadata": {},
   "outputs": [
    {
     "name": "stdout",
     "output_type": "stream",
     "text": [
      "[FedAvg] 5 clients, 5 rounds\n",
      "\n",
      "[Round 1/5]\n",
      "  Eval: loss=0.7593\n",
      "\n",
      "[Round 2/5]\n",
      "  Eval: loss=0.7585\n",
      "\n",
      "[Round 3/5]\n",
      "  Eval: loss=0.7597\n",
      "\n",
      "[Round 4/5]\n",
      "  Eval: loss=0.7605\n",
      "\n",
      "[Round 5/5]\n",
      "  Eval: loss=0.7607\n"
     ]
    }
   ],
   "source": [
    "report = run_fedavg_lstm_simple(\n",
    "    global_model=lstm_model,\n",
    "    X=X_train_lstm,           # shape (N,1,52) or (N,52)\n",
    "    y=y_train,                # int class ids (or tensor)\n",
    "    client_assignment=assignment_mc,  # optional\n",
    "    users=5,\n",
    "    rounds=5,\n",
    "    batch_size=128,\n",
    "    local_epochs=1,\n",
    "    eval_data=(X_test_lstm, y_test),  # will be reshaped to (N,1,52) if needed\n",
    "    verbose=1\n",
    ")\n"
   ]
  },
  {
   "cell_type": "code",
   "execution_count": 55,
   "id": "f2a92736",
   "metadata": {},
   "outputs": [
    {
     "name": "stdout",
     "output_type": "stream",
     "text": [
      "Model expects: (None, 1, 52)\n"
     ]
    }
   ],
   "source": [
    "print(\"Model expects:\", lstm_model.input_shape)"
   ]
  }
 ],
 "metadata": {
  "kernelspec": {
   "display_name": "base",
   "language": "python",
   "name": "python3"
  },
  "language_info": {
   "codemirror_mode": {
    "name": "ipython",
    "version": 3
   },
   "file_extension": ".py",
   "mimetype": "text/x-python",
   "name": "python",
   "nbconvert_exporter": "python",
   "pygments_lexer": "ipython3",
   "version": "3.12.7"
  }
 },
 "nbformat": 4,
 "nbformat_minor": 5
}
